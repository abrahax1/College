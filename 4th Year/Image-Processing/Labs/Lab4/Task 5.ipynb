{
 "cells": [
  {
   "cell_type": "markdown",
   "metadata": {},
   "source": [
    "## Image Maths\n",
    "- Scale image to 50%\n",
    "- add two images (composite image)\n",
    "- add two images (composite image) using addWeighted"
   ]
  },
  {
   "cell_type": "code",
   "execution_count": 1,
   "metadata": {},
   "outputs": [],
   "source": [
    "import cv2\n",
    "\n",
    "orange = cv2.imread(\"../Images/orange.png\")\n",
    "water = cv2.imread(\"../Images/water.jpg\")"
   ]
  },
  {
   "cell_type": "code",
   "execution_count": 2,
   "metadata": {},
   "outputs": [],
   "source": [
    "# Scale Image to 50%\n",
    "height, width = orange.shape[:2]\n",
    "resized_orange = cv2.resize(orange, dsize=(int(0.5 * width), int(0.5 * height)))\n",
    "\n",
    "height, width = water.shape[:2]\n",
    "resized_water = cv2.resize(water, dsize=(int(0.5 * width), int(0.5 * height)))"
   ]
  },
  {
   "cell_type": "code",
   "execution_count": 10,
   "metadata": {},
   "outputs": [],
   "source": [
    "# Add two images\n",
    "new = cv2.add(resized_orange, resized_water)"
   ]
  },
  {
   "cell_type": "code",
   "execution_count": 11,
   "metadata": {},
   "outputs": [],
   "source": [
    "cv2.imshow(\"window title\", new)\n",
    "key = cv2.waitKey(0)\n",
    "cv2.destroyAllWindows()"
   ]
  },
  {
   "cell_type": "code",
   "execution_count": 88,
   "metadata": {},
   "outputs": [],
   "source": [
    "# addWeighted to merge two images together\n",
    "new = cv2.addWeighted(resized_orange,0.6,resized_water,0.4,0)\n",
    "\n",
    "height, width = new.shape[:2]\n",
    "resized_new = cv2.resize(new, dsize=(int(2 * width), int(2 * height)))"
   ]
  },
  {
   "cell_type": "code",
   "execution_count": 89,
   "metadata": {},
   "outputs": [],
   "source": [
    "cv2.imshow(\"window title\", resized_new)\n",
    "key = cv2.waitKey(0)\n",
    "cv2.destroyAllWindows()"
   ]
  }
 ],
 "metadata": {
  "kernelspec": {
   "display_name": "Python 3.10.7 64-bit",
   "language": "python",
   "name": "python3"
  },
  "language_info": {
   "codemirror_mode": {
    "name": "ipython",
    "version": 3
   },
   "file_extension": ".py",
   "mimetype": "text/x-python",
   "name": "python",
   "nbconvert_exporter": "python",
   "pygments_lexer": "ipython3",
   "version": "3.10.7"
  },
  "orig_nbformat": 4,
  "vscode": {
   "interpreter": {
    "hash": "d862ea1f4a663ab4dc121104b5479dcae532fa2a6e71ae1454e6742a55ab2bee"
   }
  }
 },
 "nbformat": 4,
 "nbformat_minor": 2
}

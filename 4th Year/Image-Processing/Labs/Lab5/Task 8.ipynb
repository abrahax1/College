{
 "cells": [
  {
   "cell_type": "markdown",
   "metadata": {},
   "source": [
    "## Masking\n",
    "- Using thresholding to mask and find ROI (orange)\n",
    "- Using mask to extract orange from image\n",
    "- Using inverse of the orange mask to cut the shape in the water image\n",
    "- Combining orange and water mask "
   ]
  },
  {
   "cell_type": "code",
   "execution_count": 1,
   "metadata": {},
   "outputs": [],
   "source": [
    "import cv2\n",
    "import numpy as np\n",
    "\n",
    "img = cv2.imread(\"../Images/orange.png\")\n",
    "gray_img = cv2.cvtColor(img, cv2.COLOR_BGR2GRAY)\n",
    "hsv_img = cv2.cvtColor(img, cv2.COLOR_BGR2HSV)"
   ]
  },
  {
   "cell_type": "code",
   "execution_count": 7,
   "metadata": {},
   "outputs": [],
   "source": [
    "# Using thresholding to mask and find ROI (orange)\n",
    "T = np.mean(img) + np.std(img)\n",
    "T, mask = cv2.threshold(img, thresh = T-32, maxval = 255, type = cv2.THRESH_BINARY)\n",
    "\n",
    "# Using mask to extract orange from image\n",
    "gray_mask = cv2.cvtColor(mask, cv2.COLOR_BGR2GRAY)\n",
    "inverse_mask = cv2.bitwise_not(gray_mask)\n",
    "orange = cv2.bitwise_and(img, img, mask = inverse_mask)"
   ]
  },
  {
   "cell_type": "code",
   "execution_count": 3,
   "metadata": {},
   "outputs": [],
   "source": [
    "water = cv2.imread(\"../Images/water.jpg\")"
   ]
  },
  {
   "cell_type": "code",
   "execution_count": 8,
   "metadata": {},
   "outputs": [],
   "source": [
    "# Using inverse of the orange mask to cut the shape in the water image\n",
    "water_mask = cv2.bitwise_and(water, water, mask = gray_mask)\n",
    "\n",
    "cv2.imshow(\"image\", water_mask)\n",
    "cv2.waitKey(0)  \n",
    "cv2.destroyAllWindows()"
   ]
  },
  {
   "cell_type": "code",
   "execution_count": 9,
   "metadata": {},
   "outputs": [],
   "source": [
    "# Combining orange and water mask \n",
    "new = orange + water_mask\n",
    "\n",
    "cv2.imshow(\"image\", new)\n",
    "cv2.waitKey(0)  \n",
    "cv2.destroyAllWindows()"
   ]
  }
 ],
 "metadata": {
  "kernelspec": {
   "display_name": "Python 3.10.7 64-bit",
   "language": "python",
   "name": "python3"
  },
  "language_info": {
   "codemirror_mode": {
    "name": "ipython",
    "version": 3
   },
   "file_extension": ".py",
   "mimetype": "text/x-python",
   "name": "python",
   "nbconvert_exporter": "python",
   "pygments_lexer": "ipython3",
   "version": "3.10.7"
  },
  "orig_nbformat": 4,
  "vscode": {
   "interpreter": {
    "hash": "d862ea1f4a663ab4dc121104b5479dcae532fa2a6e71ae1454e6742a55ab2bee"
   }
  }
 },
 "nbformat": 4,
 "nbformat_minor": 2
}

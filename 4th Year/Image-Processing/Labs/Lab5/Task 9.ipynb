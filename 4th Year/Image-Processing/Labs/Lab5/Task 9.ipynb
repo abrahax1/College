{
 "cells": [
  {
   "cell_type": "markdown",
   "metadata": {},
   "source": [
    "## Morphology\n",
    "- Flesh Threshold and mask \n",
    "- Erosion \n",
    "- Dilation \n",
    "- Opening (Best looking)\n",
    "- Closing\n",
    "- Boundary Extraction (best used with Opening)"
   ]
  },
  {
   "cell_type": "code",
   "execution_count": 125,
   "metadata": {},
   "outputs": [],
   "source": [
    "import cv2\n",
    "import numpy as np\n",
    "\n",
    "img = cv2.imread(\"../Images/Trump.jpg\")\n",
    "Y_img = cv2.cvtColor(img, cv2.COLOR_BGR2YCrCb)"
   ]
  },
  {
   "cell_type": "code",
   "execution_count": 165,
   "metadata": {},
   "outputs": [],
   "source": [
    "# Flesh threshold on YCrCb and mask\n",
    "min_YCrCb = np.array([0,133,77], np.uint8)\n",
    "max_YCrCb = np.array([255,173,127], np.uint8)\n",
    "\n",
    "# creating the binary image\n",
    "mask = cv2.inRange(Y_img, min_YCrCb, max_YCrCb)\n",
    "\n",
    "cv2.imshow(\"image\", mask)\n",
    "cv2.waitKey(0)  \n",
    "cv2.destroyAllWindows()"
   ]
  },
  {
   "cell_type": "code",
   "execution_count": 164,
   "metadata": {},
   "outputs": [],
   "source": [
    "# Mask original image\n",
    "# OldMask = cv2.bitwise_and(img, img, mask = mask)\n",
    "\n",
    "# cv2.imshow(\"image\", OldMask)\n",
    "# cv2.waitKey(0)  \n",
    "# cv2.destroyAllWindows()"
   ]
  },
  {
   "cell_type": "code",
   "execution_count": 205,
   "metadata": {},
   "outputs": [],
   "source": [
    "# Erode\n",
    "shape = cv2.getStructuringElement(cv2.MORPH_ELLIPSE,(13,13))\n",
    "NewMask = cv2.erode(mask,shape)\n",
    "\n",
    "# using new erode mask\n",
    "orange = cv2.bitwise_and(img, img, mask = NewMask)\n",
    "cv2.imshow(\"Boundary Extraction\", orange)\n",
    "cv2.waitKey(0)  \n",
    "cv2.destroyAllWindows()"
   ]
  },
  {
   "cell_type": "code",
   "execution_count": 175,
   "metadata": {},
   "outputs": [],
   "source": [
    "# Dilate\n",
    "shape = cv2.getStructuringElement(cv2.MORPH_ELLIPSE,(1,1))\n",
    "NewMask = cv2.dilate(mask,shape)\n",
    "\n",
    "# using new dilation mask\n",
    "orange = cv2.bitwise_and(img, img, mask = NewMask)\n",
    "cv2.imshow(\"Boundary Extraction\", orange)\n",
    "cv2.waitKey(0)  \n",
    "cv2.destroyAllWindows()"
   ]
  },
  {
   "cell_type": "code",
   "execution_count": 214,
   "metadata": {},
   "outputs": [],
   "source": [
    "# Opening\n",
    "shape = cv2.getStructuringElement(cv2.MORPH_ELLIPSE,(40,40))\n",
    "NewMask =cv2.morphologyEx(mask,cv2.MORPH_OPEN,shape)\n",
    "\n",
    "# using new opening mask\n",
    "orange = cv2.bitwise_and(img, img, mask = NewMask)\n",
    "cv2.imshow(\"Boundary Extraction\", orange)\n",
    "cv2.waitKey(0)  \n",
    "cv2.destroyAllWindows()"
   ]
  },
  {
   "cell_type": "code",
   "execution_count": 206,
   "metadata": {},
   "outputs": [],
   "source": [
    "# Closing\n",
    "shape = cv2.getStructuringElement(cv2.MORPH_ELLIPSE,(1,1))\n",
    "NewMask = cv2.morphologyEx(mask,cv2.MORPH_CLOSE,shape)\n",
    "\n",
    "# using new closing mask\n",
    "orange = cv2.bitwise_and(img, img, mask = NewMask)\n",
    "cv2.imshow(\"Boundary Extraction\", orange)\n",
    "cv2.waitKey(0)  \n",
    "cv2.destroyAllWindows()"
   ]
  },
  {
   "cell_type": "code",
   "execution_count": 213,
   "metadata": {},
   "outputs": [],
   "source": [
    "# Boundary Extraction (best used with Opening)\n",
    "shape = cv2.getStructuringElement(cv2.MORPH_ELLIPSE,(5,5))\n",
    "Boundary = cv2.morphologyEx(NewMask,cv2.MORPH_GRADIENT,shape)\n",
    "\n",
    "cv2.imshow(\"Boundary Extraction\", Boundary)\n",
    "cv2.waitKey(0)  \n",
    "cv2.destroyAllWindows()"
   ]
  }
 ],
 "metadata": {
  "kernelspec": {
   "display_name": "Python 3.10.7 64-bit",
   "language": "python",
   "name": "python3"
  },
  "language_info": {
   "codemirror_mode": {
    "name": "ipython",
    "version": 3
   },
   "file_extension": ".py",
   "mimetype": "text/x-python",
   "name": "python",
   "nbconvert_exporter": "python",
   "pygments_lexer": "ipython3",
   "version": "3.10.7"
  },
  "orig_nbformat": 4,
  "vscode": {
   "interpreter": {
    "hash": "d862ea1f4a663ab4dc121104b5479dcae532fa2a6e71ae1454e6742a55ab2bee"
   }
  }
 },
 "nbformat": 4,
 "nbformat_minor": 2
}

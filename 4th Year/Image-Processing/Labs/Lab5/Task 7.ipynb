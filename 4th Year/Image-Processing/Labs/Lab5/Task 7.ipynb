{
 "cells": [
  {
   "cell_type": "markdown",
   "metadata": {},
   "source": [
    "## Simple Thresholding & Adaptative Thresholding\n",
    "#### Simple Thresholding \n",
    "- Using statistical thresholding to separate googly and background\n",
    "- Using threshold in different channels"
   ]
  },
  {
   "cell_type": "code",
   "execution_count": 72,
   "metadata": {},
   "outputs": [],
   "source": [
    "import cv2\n",
    "import numpy as np\n",
    "\n",
    "img = cv2.imread(\"../Images/Googly.jpg\")\n",
    "gray_img = cv2.cvtColor(img, cv2.COLOR_BGR2GRAY)\n",
    "yuv_img = cv2.cvtColor(img, cv2.COLOR_BGR2YUV)\n",
    "hsv_img = cv2.cvtColor(img, cv2.COLOR_BGR2HSV)\n",
    "hls_img = cv2.cvtColor(img, cv2.COLOR_BGR2HLS)\n",
    "lab_img = cv2.cvtColor(img, cv2.COLOR_BGR2LAB)\n",
    "luv_img = cv2.cvtColor(img, cv2.COLOR_BGR2LUV)"
   ]
  },
  {
   "cell_type": "code",
   "execution_count": 73,
   "metadata": {},
   "outputs": [],
   "source": [
    "# Using statistical thresholding \n",
    "T = np.mean(gray_img) + np.std(gray_img)\n",
    "\n",
    "# Simple threshold\n",
    "T, B = cv2.threshold(gray_img, thresh = T, maxval = 255, type = cv2.THRESH_BINARY)\n",
    "\n",
    "cv2.imshow(\"Image\", B)\n",
    "cv2.waitKey(0)  \n",
    "cv2.destroyAllWindows()"
   ]
  },
  {
   "cell_type": "code",
   "execution_count": 11,
   "metadata": {},
   "outputs": [],
   "source": [
    "# YUV\n",
    "T = np.mean(yuv_img) + np.std(yuv_img)\n",
    "T, B = cv2.threshold(yuv_img, thresh = T, maxval = 255, type = cv2.THRESH_BINARY)\n",
    "\n",
    "cv2.imshow(\"Image\", B)\n",
    "cv2.waitKey(0)  \n",
    "cv2.destroyAllWindows()"
   ]
  },
  {
   "cell_type": "code",
   "execution_count": 12,
   "metadata": {},
   "outputs": [],
   "source": [
    "# HSV\n",
    "T = np.mean(hsv_img) + np.std(hsv_img)\n",
    "T, B = cv2.threshold(hsv_img, thresh = T, maxval = 255, type = cv2.THRESH_BINARY)\n",
    "\n",
    "cv2.imshow(\"Image\", B)\n",
    "cv2.waitKey(0)  \n",
    "cv2.destroyAllWindows()"
   ]
  },
  {
   "cell_type": "code",
   "execution_count": 13,
   "metadata": {},
   "outputs": [],
   "source": [
    "# HLS\n",
    "T = np.mean(hls_img) + np.std(hls_img)\n",
    "T, B = cv2.threshold(hls_img, thresh = T, maxval = 255, type = cv2.THRESH_BINARY)\n",
    "\n",
    "cv2.imshow(\"Image\", B)\n",
    "cv2.waitKey(0)  \n",
    "cv2.destroyAllWindows()"
   ]
  },
  {
   "cell_type": "code",
   "execution_count": 14,
   "metadata": {},
   "outputs": [],
   "source": [
    "# LAB\n",
    "T = np.mean(lab_img) + np.std(lab_img)\n",
    "T, B = cv2.threshold(lab_img, thresh = T, maxval = 255, type = cv2.THRESH_BINARY)\n",
    "\n",
    "cv2.imshow(\"Image\", B)\n",
    "cv2.waitKey(0)  \n",
    "cv2.destroyAllWindows()"
   ]
  },
  {
   "cell_type": "code",
   "execution_count": 15,
   "metadata": {},
   "outputs": [],
   "source": [
    "# LUV\n",
    "T = np.mean(luv_img) + np.std(luv_img)\n",
    "T, B = cv2.threshold(luv_img, thresh = T, maxval = 255, type = cv2.THRESH_BINARY)\n",
    "\n",
    "cv2.imshow(\"Image\", B)\n",
    "cv2.waitKey(0)  \n",
    "cv2.destroyAllWindows()"
   ]
  },
  {
   "cell_type": "markdown",
   "metadata": {},
   "source": [
    "## Adaptative Thresholding\n",
    "- Using adaptive thresholding to create black & white image"
   ]
  },
  {
   "cell_type": "code",
   "execution_count": 74,
   "metadata": {},
   "outputs": [],
   "source": [
    "import cv2\n",
    "\n",
    "img = cv2.imread(\"../Images/Sudoku.jpg\")\n",
    "gray_img = cv2.cvtColor(img, cv2.COLOR_BGR2GRAY)"
   ]
  },
  {
   "cell_type": "code",
   "execution_count": 75,
   "metadata": {},
   "outputs": [],
   "source": [
    "# Using adaptive thresholding\n",
    "B = cv2.adaptiveThreshold(gray_img, maxValue = 255, \n",
    "adaptiveMethod = cv2.ADAPTIVE_THRESH_GAUSSIAN_C,\n",
    "thresholdType = cv2.THRESH_BINARY,\n",
    "blockSize = 15 ,C = 15)\n",
    "\n",
    "cv2.imshow(\"Image\", B)\n",
    "cv2.waitKey(0)  \n",
    "cv2.destroyAllWindows()"
   ]
  }
 ],
 "metadata": {
  "kernelspec": {
   "display_name": "Python 3.10.7 64-bit",
   "language": "python",
   "name": "python3"
  },
  "language_info": {
   "codemirror_mode": {
    "name": "ipython",
    "version": 3
   },
   "file_extension": ".py",
   "mimetype": "text/x-python",
   "name": "python",
   "nbconvert_exporter": "python",
   "pygments_lexer": "ipython3",
   "version": "3.10.7"
  },
  "orig_nbformat": 4,
  "vscode": {
   "interpreter": {
    "hash": "d862ea1f4a663ab4dc121104b5479dcae532fa2a6e71ae1454e6742a55ab2bee"
   }
  }
 },
 "nbformat": 4,
 "nbformat_minor": 2
}

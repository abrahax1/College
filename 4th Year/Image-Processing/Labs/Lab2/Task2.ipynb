{
 "cells": [
  {
   "cell_type": "markdown",
   "metadata": {},
   "source": [
    "## Handling Images\n",
    "- Show image on screen\n",
    "- Capturing user input (click)\n",
    "- Drawing a square in an image when clicked \n",
    "    - Converting pixels within the square to YUV (when clicked)"
   ]
  },
  {
   "cell_type": "code",
   "execution_count": 3,
   "metadata": {},
   "outputs": [],
   "source": [
    "import cv2\n",
    "import easygui\n",
    "\n",
    "# Open user selected image\n",
    "I = cv2.imread(\"../Images/image.jpg\")"
   ]
  },
  {
   "cell_type": "code",
   "execution_count": 3,
   "metadata": {},
   "outputs": [],
   "source": [
    "# Open user selected image\n",
    "f = easygui.fileopenbox(filetypes=[\"*.jpg\",\"*.jpeg\",\"*.png\"])\n",
    "I = cv2.imread(f)"
   ]
  },
  {
   "cell_type": "code",
   "execution_count": 4,
   "metadata": {},
   "outputs": [],
   "source": [
    "# Show image on screen\n",
    "cv2.imshow(\"window title\", I)\n",
    "key = cv2.waitKey(0) # the 0 here tells openCV to wait indefinitely (until a key is pressed)\n",
    "cv2.destroyAllWindows()"
   ]
  },
  {
   "cell_type": "code",
   "execution_count": 5,
   "metadata": {},
   "outputs": [],
   "source": [
    "# Capturing user input:\n",
    "def draw(event,x,y,flags,param): \n",
    "    if event == cv2.EVENT_LBUTTONDOWN: \n",
    "        cv2.circle(img = I, center = (x,y),radius = 5, color = (255,255,255), thickness = -1) \n",
    "        cv2.imshow(\"image\", I) \n",
    "\n",
    "cv2.namedWindow(\"image\") \n",
    "cv2.setMouseCallback(\"image\", draw) \n",
    "cv2.imshow(\"image\", I)\n",
    "key = cv2.waitKey(0)\n",
    "cv2.destroyAllWindows()"
   ]
  },
  {
   "cell_type": "code",
   "execution_count": 6,
   "metadata": {},
   "outputs": [],
   "source": [
    "# Draw a square by user input\n",
    "ix, iy = -1, -1\n",
    "\n",
    "def draw(event,x,y,flags,param): \n",
    "    if event == cv2.EVENT_LBUTTONDOWN: \n",
    "        ix, iy = x, y\n",
    "        cv2.rectangle(img = I, pt1 = (ix-100, iy-100), pt2 = (x+100,y+100), color = (0,0,255), thickness = 5)\n",
    "        cv2.imshow(\"image\", I) \n",
    "\n",
    "cv2.namedWindow(\"image\") \n",
    "cv2.setMouseCallback(\"image\", draw) \n",
    "cv2.imshow(\"image\", I)\n",
    "key = cv2.waitKey(0)\n",
    "cv2.destroyAllWindows()"
   ]
  },
  {
   "cell_type": "code",
   "execution_count": 7,
   "metadata": {},
   "outputs": [],
   "source": [
    "# Convert pixels within the square to YUV\n",
    "def draw(event,x,y,flags,param): \n",
    "    if event == cv2.EVENT_LBUTTONDOWN: \n",
    "        cv2.rectangle(img = I, pt1 = (x - 100, y - 100), pt2 = (x + 100, y + 100), color = (0,0,255), thickness = 5)\n",
    "        box = I[y - 100 : y + 100, x - 100 : x + 100] \n",
    "        boxYuv = cv2.cvtColor(box, cv2.COLOR_BGR2YUV)\n",
    "        I[y - 100 : y + 100, x - 100 : x + 100]  = boxYuv\n",
    "        cv2.imshow(\"image\", I) \n",
    "\n",
    "\n",
    "cv2.namedWindow(\"image\") \n",
    "cv2.setMouseCallback(\"image\", draw) \n",
    "cv2.imshow(\"image\", I)\n",
    "key = cv2.waitKey(0)\n",
    "cv2.destroyAllWindows()\n"
   ]
  }
 ],
 "metadata": {
  "kernelspec": {
   "display_name": "Python 3.10.7 64-bit",
   "language": "python",
   "name": "python3"
  },
  "language_info": {
   "codemirror_mode": {
    "name": "ipython",
    "version": 3
   },
   "file_extension": ".py",
   "mimetype": "text/x-python",
   "name": "python",
   "nbconvert_exporter": "python",
   "pygments_lexer": "ipython3",
   "version": "3.10.7"
  },
  "orig_nbformat": 4,
  "vscode": {
   "interpreter": {
    "hash": "d862ea1f4a663ab4dc121104b5479dcae532fa2a6e71ae1454e6742a55ab2bee"
   }
  }
 },
 "nbformat": 4,
 "nbformat_minor": 2
}

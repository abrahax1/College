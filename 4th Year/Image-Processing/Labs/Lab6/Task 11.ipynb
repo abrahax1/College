{
 "cells": [
  {
   "cell_type": "markdown",
   "metadata": {},
   "source": [
    "## Corners\n",
    "- Create Harris corner \n",
    "- Use Shi-Tomasi to find location of the strongest corners\n",
    "- Plot Shi-Tomasi corners on Harris image"
   ]
  },
  {
   "cell_type": "code",
   "execution_count": 4,
   "metadata": {},
   "outputs": [],
   "source": [
    "import cv2\n",
    "import numpy as np\n",
    "from matplotlib import pyplot as plt\n",
    "\n",
    "img = cv2.imread(\"../Images/sudoku.jpg\")\n",
    "grayImage = cv2.cvtColor(img, cv2.COLOR_BGR2GRAY)"
   ]
  },
  {
   "cell_type": "code",
   "execution_count": 5,
   "metadata": {},
   "outputs": [],
   "source": [
    "# Creating Harris corner and coloring them green\n",
    "H = cv2.cornerHarris(grayImage, blockSize=5, ksize=3, k=0.04)\n",
    "img[H>0.001*H.max()] = [0,255,0]\n",
    "\n",
    "cv2.imshow(\"cornerHarris\", img)\n",
    "cv2.waitKey(0)  \n",
    "cv2.destroyAllWindows()"
   ]
  },
  {
   "cell_type": "code",
   "execution_count": 6,
   "metadata": {},
   "outputs": [],
   "source": [
    "# Using Shi-Tomasi to find strongest corners\n",
    "Corners = cv2.goodFeaturesToTrack(grayImage, maxCorners=50, qualityLevel=0.1, minDistance=10)\n",
    "corners_img = np.int0(Corners)\n",
    "\n",
    "# Plot Shi-Tomasi corners on Harris image and coloring them red\n",
    "for corners in corners_img:\n",
    "        x,y = corners.ravel()\n",
    "        cv2.circle(img,(x,y),3,[0,0,255],-1)\n",
    "\n",
    "cv2.imshow(\"Shi-Tomasi\", img)\n",
    "cv2.waitKey(0)  \n",
    "cv2.destroyAllWindows()"
   ]
  }
 ],
 "metadata": {
  "kernelspec": {
   "display_name": "Python 3.10.7 64-bit",
   "language": "python",
   "name": "python3"
  },
  "language_info": {
   "codemirror_mode": {
    "name": "ipython",
    "version": 3
   },
   "file_extension": ".py",
   "mimetype": "text/x-python",
   "name": "python",
   "nbconvert_exporter": "python",
   "pygments_lexer": "ipython3",
   "version": "3.10.7"
  },
  "orig_nbformat": 4,
  "vscode": {
   "interpreter": {
    "hash": "d862ea1f4a663ab4dc121104b5479dcae532fa2a6e71ae1454e6742a55ab2bee"
   }
  }
 },
 "nbformat": 4,
 "nbformat_minor": 2
}

{
 "cells": [
  {
   "cell_type": "markdown",
   "metadata": {},
   "source": [
    "## Contours\n",
    "- Using adaptative threshold to create binary mask\n",
    "- Drawing contours by finding the largest contour in the image (cell)\n",
    "- Find the orientation of the cell by fitting an ellipse"
   ]
  },
  {
   "cell_type": "code",
   "execution_count": 81,
   "metadata": {},
   "outputs": [],
   "source": [
    "import cv2\n",
    "import numpy as np\n",
    "from matplotlib import pyplot as plt\n",
    "\n",
    "I = cv2.imread(\"../Images/Micro.jpg\")\n",
    "grayImage = cv2.cvtColor(I, cv2.COLOR_BGR2GRAY)"
   ]
  },
  {
   "cell_type": "code",
   "execution_count": 82,
   "metadata": {},
   "outputs": [],
   "source": [
    "# Using adaptative threshold to create binary mask\n",
    "Mask = cv2.adaptiveThreshold(grayImage, maxValue = 255,adaptiveMethod = cv2.ADAPTIVE_THRESH_GAUSSIAN_C,thresholdType = cv2.THRESH_BINARY,blockSize = 205, C = 8)"
   ]
  },
  {
   "cell_type": "code",
   "execution_count": 83,
   "metadata": {},
   "outputs": [],
   "source": [
    "inverse_mask = cv2.bitwise_not(Mask)\n",
    "ROI = cv2.bitwise_and(I, I, mask = inverse_mask)\n",
    "\n",
    "contours, hierarchy = cv2.findContours(inverse_mask, cv2.RETR_EXTERNAL, cv2.CHAIN_APPROX_NONE)"
   ]
  },
  {
   "cell_type": "code",
   "execution_count": 84,
   "metadata": {},
   "outputs": [],
   "source": [
    "# Extract and draw the boundary of the cell by finding the largest contour in the image\n",
    "\n",
    "area_array = []\n",
    "count = 1\n",
    "# Make list with contourArea to check the area of the countour  \n",
    "for i, j in enumerate(contours):\n",
    "    area = cv2.contourArea(j)\n",
    "    area_array.append(area)\n",
    "\n",
    "# sorting array from biggest to smallest by area using lambda function to order by first element in list (Area)\n",
    "sorted_array = sorted(zip(area_array, contours), key=lambda x: x[0], reverse=True)\n",
    "\n",
    "# Using the second largest countour, most likely to be the shark\n",
    "cell = sorted_array[0][1]\n",
    "\n",
    "# Draw contours \n",
    "image = cv2.drawContours(I, cell, -1, (0, 0, 255), 2)\n",
    "\n",
    "cv2.imshow(\"image\", I)\n",
    "key = cv2.waitKey(0)\n",
    "cv2.destroyAllWindows()"
   ]
  },
  {
   "cell_type": "code",
   "execution_count": 87,
   "metadata": {},
   "outputs": [],
   "source": [
    "ellipse = cv2.fitEllipse(cell)\n",
    "newI = cv2.ellipse(I,ellipse, color=(0,255,0))\n",
    "\n",
    "cv2.imshow(\"image\", newI)\n",
    "key = cv2.waitKey(0)\n",
    "cv2.destroyAllWindows()"
   ]
  }
 ],
 "metadata": {
  "kernelspec": {
   "display_name": "Python 3.10.7 64-bit",
   "language": "python",
   "name": "python3"
  },
  "language_info": {
   "codemirror_mode": {
    "name": "ipython",
    "version": 3
   },
   "file_extension": ".py",
   "mimetype": "text/x-python",
   "name": "python",
   "nbconvert_exporter": "python",
   "pygments_lexer": "ipython3",
   "version": "3.10.7"
  },
  "orig_nbformat": 4,
  "vscode": {
   "interpreter": {
    "hash": "d862ea1f4a663ab4dc121104b5479dcae532fa2a6e71ae1454e6742a55ab2bee"
   }
  }
 },
 "nbformat": 4,
 "nbformat_minor": 2
}

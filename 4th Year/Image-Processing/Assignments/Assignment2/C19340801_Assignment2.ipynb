{
 "cells": [
  {
   "cell_type": "markdown",
   "metadata": {},
   "source": [
    "## How to use\n",
    "1. Click 'Run All' and the file opener will come up (make sure to check your background applications) \n",
    "2. Select the image containing the cells \n",
    "3. Image of the cells in a black background will display (check your background applications)\n",
    "3. Click on any of the cells and the cell will be displayed\n",
    "4. Click on the black background to either: \n",
    "    - Show the image back to how it looked before \n",
    "    - Show a different cell\n",
    "        - (This is decided by if the clicked area has a cell or not)\n",
    "5. To stop the image, press any key or close it manually \n",
    "\n",
    "## Code Explanation\n",
    "#### 1st part\n",
    "- Reading image using easygui\n",
    "- Resizing image in case it is too large or small \n",
    "- Converting original image to grayscale for later use \n",
    "\n",
    "#### 2nd part\n",
    "- Finding threshold using simple tresholding of the original image\n",
    "- Masking the original image with the threshold - 32 (found it to be the best threshold for the images)\n",
    "- Using mask and inverse mask to extract cell from image into a black background \n",
    "\n",
    "#### 3rd part \n",
    "- Finding contours and hierarchy of the inverse mask\n",
    "- Using loop to enumerate the contours and check \n",
    "    - if there are any parent-child relationship only use the parent contour\n",
    "    - if the contour area is higher than 100\n",
    "- Drawing cotours in the ROI\n",
    "\n",
    "#### 4th part \n",
    "- Function checking for user input (left click)\n",
    "- Creating a completely black image to use for the selected cell [Reference][1]\n",
    "- Using for loop to iterate on contours and uses pointPolygonTest function to check if the clicked area is inside a contour [Reference][2], [Reference2][3]\n",
    "    - if inside the countour \n",
    "        - draws the contours\n",
    "        - Merges the ROI and mask \n",
    "- Displays the cell\n",
    "\n",
    "#### 5th part\n",
    "- Creates a window for image \n",
    "- Calls draw function (4th part)\n",
    "- Displays ROI and waits for user input (key)\n",
    "\n",
    "[1]: https://datacarpentry.org/image-processing/04-drawing/ \n",
    "[2]: https://docs.opencv.org/3.4/d3/dc0/group__imgproc__shape.html#ga1a539e8db2135af2566103705d7a5722\n",
    "[3]: https://docs.opencv.org/3.4/dc/d48/tutorial_point_polygon_test.html"
   ]
  },
  {
   "cell_type": "code",
   "execution_count": 1,
   "metadata": {},
   "outputs": [],
   "source": [
    "# 1st part\n",
    "import cv2\n",
    "import easygui\n",
    "import numpy as np\n",
    "\n",
    "I = easygui.fileopenbox(filetypes=[\"*.jpg\",\"*.jpeg\",\"*.png\"])\n",
    "I = cv2.imread(I)\n",
    "\n",
    "down_width = 1000\n",
    "down_height = 500\n",
    "down_points = (down_width, down_height)\n",
    "I = cv2.resize(I, down_points, interpolation= cv2.INTER_LINEAR)\n",
    "\n",
    "grayImage = cv2.cvtColor(I, cv2.COLOR_BGR2GRAY)"
   ]
  },
  {
   "cell_type": "code",
   "execution_count": 2,
   "metadata": {},
   "outputs": [],
   "source": [
    "# 2nd part\n",
    "T = np.mean(I) + np.std(I)\n",
    "T, Mask = cv2.threshold(I, thresh = T-32, maxval = 255, type = cv2.THRESH_BINARY)\n",
    "\n",
    "gray_mask = cv2.cvtColor(Mask, cv2.COLOR_BGR2GRAY)\n",
    "inverse_mask = cv2.bitwise_not(gray_mask)\n",
    "ROI = cv2.bitwise_and(I, I, mask = inverse_mask)"
   ]
  },
  {
   "cell_type": "code",
   "execution_count": 3,
   "metadata": {},
   "outputs": [],
   "source": [
    "# 3rd part\n",
    "contours, hierarchy = cv2.findContours(inverse_mask, cv2.RETR_TREE, cv2.CHAIN_APPROX_SIMPLE)\n",
    "\n",
    "for i,contour in enumerate(contours):\n",
    "    if hierarchy[0][i][2] > 0 or hierarchy[0][i][2] < 0 :\n",
    "        if  cv2.contourArea(contour) > 100:\n",
    "            cv2.drawContours(ROI,[contour], -1, (0,255,0), 2)"
   ]
  },
  {
   "cell_type": "code",
   "execution_count": 4,
   "metadata": {},
   "outputs": [],
   "source": [
    "# 4th part\n",
    "def draw(event,x,y,flags,param): \n",
    "    h, w = I.shape[:2]\n",
    "    mask = np.zeros((h,w), np.uint8)\n",
    "    out = ROI\n",
    "    if event == cv2.EVENT_LBUTTONDOWN: \n",
    "        for i in range(0, len(contours)):         \n",
    "            clicked = cv2.pointPolygonTest(contours[i], (x, y), False)\n",
    "        \n",
    "            if clicked > 0:\n",
    "                cv2.drawContours(mask, contours, i, 255, -1)\n",
    "                out = cv2.bitwise_and(ROI, ROI, mask=mask)\n",
    "        cv2.imshow(\"image\", out)"
   ]
  },
  {
   "cell_type": "code",
   "execution_count": 5,
   "metadata": {},
   "outputs": [],
   "source": [
    "# 5th part\n",
    "cv2.namedWindow(\"image\") \n",
    "cv2.setMouseCallback(\"image\", draw) \n",
    "cv2.imshow(\"image\", ROI)\n",
    "key = cv2.waitKey(0)\n",
    "cv2.destroyAllWindows()"
   ]
  }
 ],
 "metadata": {
  "kernelspec": {
   "display_name": "Python 3.10.7 64-bit",
   "language": "python",
   "name": "python3"
  },
  "language_info": {
   "codemirror_mode": {
    "name": "ipython",
    "version": 3
   },
   "file_extension": ".py",
   "mimetype": "text/x-python",
   "name": "python",
   "nbconvert_exporter": "python",
   "pygments_lexer": "ipython3",
   "version": "3.10.7 (tags/v3.10.7:6cc6b13, Sep  5 2022, 14:08:36) [MSC v.1933 64 bit (AMD64)]"
  },
  "orig_nbformat": 4,
  "vscode": {
   "interpreter": {
    "hash": "d862ea1f4a663ab4dc121104b5479dcae532fa2a6e71ae1454e6742a55ab2bee"
   }
  }
 },
 "nbformat": 4,
 "nbformat_minor": 2
}

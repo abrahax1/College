{
 "cells": [
  {
   "cell_type": "code",
   "execution_count": null,
   "metadata": {},
   "outputs": [],
   "source": []
  },
  {
   "cell_type": "code",
   "execution_count": 17,
   "metadata": {},
   "outputs": [
    {
     "name": "stdout",
     "output_type": "stream",
     "text": [
      "['1', 'industrial', '34', '2.96', 'repaid']\n",
      "['2', 'professional', '41', '4.64', 'default']\n",
      "['3', 'professional', '36', '3.22', 'default']\n",
      "['4', 'professional', '41', '3.11', 'default']\n",
      "['5', 'industrial', '48', '3.8', 'default']\n",
      "['6', 'industrial', '61', '2.52', 'repaid']\n",
      "['7', 'professional', '37', '1.5', 'repaid']\n",
      "['8', 'professional', '40', '1.93', 'repaid']\n",
      "['9', 'industrial', '33', '5.25', 'default']\n",
      "['10', 'industrial', '32', '4.15', 'default']\n"
     ]
    }
   ],
   "source": [
    "# Q1 \n",
    "import csv \n",
    "with open('loans.csv', encoding='utf-8-sig') as csvfile:\n",
    "    spamreader = csv.reader(csvfile, delimiter=',')\n",
    "    for row in spamreader:\n",
    "        print(row)"
   ]
  },
  {
   "cell_type": "code",
   "execution_count": 22,
   "metadata": {},
   "outputs": [
    {
     "name": "stdout",
     "output_type": "stream",
     "text": [
      "32\n"
     ]
    }
   ],
   "source": [
    "# Q2\n",
    "import csv\n",
    "with open('loans.csv', encoding='utf-8-sig') as csvfile:\n",
    "    spamreader = csv.reader(csvfile, delimiter=',')\n",
    "    youngest = 100\n",
    "    for row in spamreader:\n",
    "        if youngest > int(row[2]):\n",
    "            youngest = int(row[2])\n",
    "    print(youngest)\n",
    "    "
   ]
  },
  {
   "cell_type": "code",
   "execution_count": 9,
   "metadata": {},
   "outputs": [
    {
     "data": {
      "text/html": [
       "<div>\n",
       "<style scoped>\n",
       "    .dataframe tbody tr th:only-of-type {\n",
       "        vertical-align: middle;\n",
       "    }\n",
       "\n",
       "    .dataframe tbody tr th {\n",
       "        vertical-align: top;\n",
       "    }\n",
       "\n",
       "    .dataframe thead th {\n",
       "        text-align: right;\n",
       "    }\n",
       "</style>\n",
       "<table border=\"1\" class=\"dataframe\">\n",
       "  <thead>\n",
       "    <tr style=\"text-align: right;\">\n",
       "      <th></th>\n",
       "      <th>0</th>\n",
       "      <th>1</th>\n",
       "      <th>2</th>\n",
       "      <th>3</th>\n",
       "      <th>4</th>\n",
       "    </tr>\n",
       "  </thead>\n",
       "  <tbody>\n",
       "    <tr>\n",
       "      <th>0</th>\n",
       "      <td>1</td>\n",
       "      <td>industrial</td>\n",
       "      <td>34</td>\n",
       "      <td>2.96</td>\n",
       "      <td>repaid</td>\n",
       "    </tr>\n",
       "    <tr>\n",
       "      <th>1</th>\n",
       "      <td>2</td>\n",
       "      <td>professional</td>\n",
       "      <td>41</td>\n",
       "      <td>4.64</td>\n",
       "      <td>default</td>\n",
       "    </tr>\n",
       "    <tr>\n",
       "      <th>2</th>\n",
       "      <td>3</td>\n",
       "      <td>professional</td>\n",
       "      <td>36</td>\n",
       "      <td>3.22</td>\n",
       "      <td>default</td>\n",
       "    </tr>\n",
       "    <tr>\n",
       "      <th>3</th>\n",
       "      <td>4</td>\n",
       "      <td>professional</td>\n",
       "      <td>41</td>\n",
       "      <td>3.11</td>\n",
       "      <td>default</td>\n",
       "    </tr>\n",
       "    <tr>\n",
       "      <th>4</th>\n",
       "      <td>5</td>\n",
       "      <td>industrial</td>\n",
       "      <td>48</td>\n",
       "      <td>3.80</td>\n",
       "      <td>default</td>\n",
       "    </tr>\n",
       "    <tr>\n",
       "      <th>5</th>\n",
       "      <td>6</td>\n",
       "      <td>industrial</td>\n",
       "      <td>61</td>\n",
       "      <td>2.52</td>\n",
       "      <td>repaid</td>\n",
       "    </tr>\n",
       "    <tr>\n",
       "      <th>6</th>\n",
       "      <td>7</td>\n",
       "      <td>professional</td>\n",
       "      <td>37</td>\n",
       "      <td>1.50</td>\n",
       "      <td>repaid</td>\n",
       "    </tr>\n",
       "    <tr>\n",
       "      <th>7</th>\n",
       "      <td>8</td>\n",
       "      <td>professional</td>\n",
       "      <td>40</td>\n",
       "      <td>1.93</td>\n",
       "      <td>repaid</td>\n",
       "    </tr>\n",
       "    <tr>\n",
       "      <th>8</th>\n",
       "      <td>9</td>\n",
       "      <td>industrial</td>\n",
       "      <td>33</td>\n",
       "      <td>5.25</td>\n",
       "      <td>default</td>\n",
       "    </tr>\n",
       "    <tr>\n",
       "      <th>9</th>\n",
       "      <td>10</td>\n",
       "      <td>industrial</td>\n",
       "      <td>32</td>\n",
       "      <td>4.15</td>\n",
       "      <td>default</td>\n",
       "    </tr>\n",
       "  </tbody>\n",
       "</table>\n",
       "</div>"
      ],
      "text/plain": [
       "    0             1   2     3        4\n",
       "0   1    industrial  34  2.96   repaid\n",
       "1   2  professional  41  4.64  default\n",
       "2   3  professional  36  3.22  default\n",
       "3   4  professional  41  3.11  default\n",
       "4   5    industrial  48  3.80  default\n",
       "5   6    industrial  61  2.52   repaid\n",
       "6   7  professional  37  1.50   repaid\n",
       "7   8  professional  40  1.93   repaid\n",
       "8   9    industrial  33  5.25  default\n",
       "9  10    industrial  32  4.15  default"
      ]
     },
     "execution_count": 9,
     "metadata": {},
     "output_type": "execute_result"
    }
   ],
   "source": [
    "# Q3\n",
    "import pandas as pd\n",
    "df = pd.read_csv('loans.csv', header= None)\n",
    "df"
   ]
  }
 ],
 "metadata": {
  "kernelspec": {
   "display_name": "Python 3.9.13 64-bit (windows store)",
   "language": "python",
   "name": "python3"
  },
  "language_info": {
   "codemirror_mode": {
    "name": "ipython",
    "version": 3
   },
   "file_extension": ".py",
   "mimetype": "text/x-python",
   "name": "python",
   "nbconvert_exporter": "python",
   "pygments_lexer": "ipython3",
   "version": "3.9.13"
  },
  "orig_nbformat": 4,
  "vscode": {
   "interpreter": {
    "hash": "1552a18a54b0ac2317987742fb5386f897482749621c34b39a0576616fcf7d50"
   }
  }
 },
 "nbformat": 4,
 "nbformat_minor": 2
}

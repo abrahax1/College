{
 "cells": [
  {
   "cell_type": "code",
   "execution_count": 1,
   "metadata": {},
   "outputs": [],
   "source": [
    "import sqlite3 as sql\n",
    "import pandas as pd"
   ]
  },
  {
   "cell_type": "code",
   "execution_count": 6,
   "metadata": {},
   "outputs": [
    {
     "data": {
      "text/plain": "<sqlite3.Cursor at 0x1260347a0>"
     },
     "execution_count": 6,
     "metadata": {},
     "output_type": "execute_result"
    }
   ],
   "source": [
    "conn = sql.connect('bikes.db')\n",
    "cursor = conn.cursor()\n",
    "\n",
    "cursor.execute(\"Drop table if exists bikes\")\n"
   ]
  },
  {
   "cell_type": "code",
   "execution_count": 60,
   "metadata": {},
   "outputs": [
    {
     "data": {
      "text/html": "<div>\n<style scoped>\n    .dataframe tbody tr th:only-of-type {\n        vertical-align: middle;\n    }\n\n    .dataframe tbody tr th {\n        vertical-align: top;\n    }\n\n    .dataframe thead th {\n        text-align: right;\n    }\n</style>\n<table border=\"1\" class=\"dataframe\">\n  <thead>\n    <tr style=\"text-align: right;\">\n      <th></th>\n      <th>STATION_ID</th>\n      <th>TIME</th>\n      <th>LAST_UPDATED</th>\n      <th>NAME</th>\n      <th>BIKE_STANDS</th>\n      <th>AVAILABLE_BIKE_STANDS</th>\n      <th>AVAILABLE_BIKES</th>\n      <th>STATUS</th>\n      <th>ADDRESS</th>\n      <th>LATITUDE</th>\n      <th>LONGITUDE</th>\n    </tr>\n  </thead>\n  <tbody>\n    <tr>\n      <th>0</th>\n      <td>42</td>\n      <td>SMITHFIELD NORTH</td>\n      <td>Smithfield North</td>\n      <td>53.349562</td>\n      <td>-6.278198</td>\n      <td>NaN</td>\n      <td>NaN</td>\n      <td>NaN</td>\n      <td>NaN</td>\n      <td>NaN</td>\n      <td>NaN</td>\n    </tr>\n    <tr>\n      <th>1</th>\n      <td>30</td>\n      <td>PARNELL SQUARE NORTH</td>\n      <td>Parnell Square North</td>\n      <td>53.353462</td>\n      <td>-6.265305</td>\n      <td>NaN</td>\n      <td>NaN</td>\n      <td>NaN</td>\n      <td>NaN</td>\n      <td>NaN</td>\n      <td>NaN</td>\n    </tr>\n    <tr>\n      <th>2</th>\n      <td>54</td>\n      <td>CLONMEL STREET</td>\n      <td>Clonmel Street</td>\n      <td>53.336021</td>\n      <td>-6.262980</td>\n      <td>NaN</td>\n      <td>NaN</td>\n      <td>NaN</td>\n      <td>NaN</td>\n      <td>NaN</td>\n      <td>NaN</td>\n    </tr>\n    <tr>\n      <th>3</th>\n      <td>108</td>\n      <td>AVONDALE ROAD</td>\n      <td>Avondale Road</td>\n      <td>53.359405</td>\n      <td>-6.276142</td>\n      <td>NaN</td>\n      <td>NaN</td>\n      <td>NaN</td>\n      <td>NaN</td>\n      <td>NaN</td>\n      <td>NaN</td>\n    </tr>\n    <tr>\n      <th>4</th>\n      <td>56</td>\n      <td>MOUNT STREET LOWER</td>\n      <td>Mount Street Lower</td>\n      <td>53.337960</td>\n      <td>-6.241530</td>\n      <td>NaN</td>\n      <td>NaN</td>\n      <td>NaN</td>\n      <td>NaN</td>\n      <td>NaN</td>\n      <td>NaN</td>\n    </tr>\n  </tbody>\n</table>\n</div>",
      "text/plain": "   STATION_ID                  TIME          LAST_UPDATED       NAME  \\\n0          42      SMITHFIELD NORTH      Smithfield North  53.349562   \n1          30  PARNELL SQUARE NORTH  Parnell Square North  53.353462   \n2          54        CLONMEL STREET        Clonmel Street  53.336021   \n3         108         AVONDALE ROAD         Avondale Road  53.359405   \n4          56    MOUNT STREET LOWER    Mount Street Lower  53.337960   \n\n   BIKE_STANDS  AVAILABLE_BIKE_STANDS  AVAILABLE_BIKES  STATUS  ADDRESS  \\\n0    -6.278198                    NaN              NaN     NaN      NaN   \n1    -6.265305                    NaN              NaN     NaN      NaN   \n2    -6.262980                    NaN              NaN     NaN      NaN   \n3    -6.276142                    NaN              NaN     NaN      NaN   \n4    -6.241530                    NaN              NaN     NaN      NaN   \n\n   LATITUDE  LONGITUDE  \n0       NaN        NaN  \n1       NaN        NaN  \n2       NaN        NaN  \n3       NaN        NaN  \n4       NaN        NaN  "
     },
     "execution_count": 60,
     "metadata": {},
     "output_type": "execute_result"
    }
   ],
   "source": [
    "usageFile = \"https://data.smartdublin.ie/dataset/33ec9fe2-4957-4e9a-ab55-c5e917c7a9ab/resource/2dec86ed-76ed-47a3-ae28-646db5c5b965/download/dublin.csv\"\n",
    "headers = ['STATION_ID', 'TIME', 'LAST_UPDATED', 'NAME', 'BIKE_STANDS', 'AVAILABLE_BIKE_STANDS', \n",
    "           'AVAILABLE_BIKES', 'STATUS', 'ADDRESS', 'LATITUDE', 'LONGITUDE']\n",
    "dfusage = pd.read_csv(usageFile, index_col=None, names = headers, skiprows=1, nrows=10000)\n",
    "\n",
    "dfusage.head()"
   ]
  },
  {
   "cell_type": "code",
   "execution_count": 59,
   "metadata": {},
   "outputs": [
    {
     "ename": "ValueError",
     "evalue": "Table 'bike' already exists.",
     "output_type": "error",
     "traceback": [
      "\u001b[0;31m---------------------------------------------------------------------------\u001b[0m",
      "\u001b[0;31mValueError\u001b[0m                                Traceback (most recent call last)",
      "\u001b[0;32m/var/folders/z4/xgf930314475gnsm9zxbs1fm0000gn/T/ipykernel_56841/1387792710.py\u001b[0m in \u001b[0;36m<module>\u001b[0;34m\u001b[0m\n\u001b[0;32m----> 1\u001b[0;31m \u001b[0mdfusage\u001b[0m\u001b[0;34m.\u001b[0m\u001b[0mto_sql\u001b[0m\u001b[0;34m(\u001b[0m\u001b[0;34m'bike'\u001b[0m\u001b[0;34m,\u001b[0m \u001b[0mconn\u001b[0m\u001b[0;34m)\u001b[0m\u001b[0;34m\u001b[0m\u001b[0;34m\u001b[0m\u001b[0m\n\u001b[0m",
      "\u001b[0;32m~/Library/Python/3.8/lib/python/site-packages/pandas/core/generic.py\u001b[0m in \u001b[0;36mto_sql\u001b[0;34m(self, name, con, schema, if_exists, index, index_label, chunksize, dtype, method)\u001b[0m\n\u001b[1;32m   2870\u001b[0m         \u001b[0;32mfrom\u001b[0m \u001b[0mpandas\u001b[0m\u001b[0;34m.\u001b[0m\u001b[0mio\u001b[0m \u001b[0;32mimport\u001b[0m \u001b[0msql\u001b[0m\u001b[0;34m\u001b[0m\u001b[0;34m\u001b[0m\u001b[0m\n\u001b[1;32m   2871\u001b[0m \u001b[0;34m\u001b[0m\u001b[0m\n\u001b[0;32m-> 2872\u001b[0;31m         sql.to_sql(\n\u001b[0m\u001b[1;32m   2873\u001b[0m             \u001b[0mself\u001b[0m\u001b[0;34m,\u001b[0m\u001b[0;34m\u001b[0m\u001b[0;34m\u001b[0m\u001b[0m\n\u001b[1;32m   2874\u001b[0m             \u001b[0mname\u001b[0m\u001b[0;34m,\u001b[0m\u001b[0;34m\u001b[0m\u001b[0;34m\u001b[0m\u001b[0m\n",
      "\u001b[0;32m~/Library/Python/3.8/lib/python/site-packages/pandas/io/sql.py\u001b[0m in \u001b[0;36mto_sql\u001b[0;34m(frame, name, con, schema, if_exists, index, index_label, chunksize, dtype, method, engine, **engine_kwargs)\u001b[0m\n\u001b[1;32m    715\u001b[0m         )\n\u001b[1;32m    716\u001b[0m \u001b[0;34m\u001b[0m\u001b[0m\n\u001b[0;32m--> 717\u001b[0;31m     pandas_sql.to_sql(\n\u001b[0m\u001b[1;32m    718\u001b[0m         \u001b[0mframe\u001b[0m\u001b[0;34m,\u001b[0m\u001b[0;34m\u001b[0m\u001b[0;34m\u001b[0m\u001b[0m\n\u001b[1;32m    719\u001b[0m         \u001b[0mname\u001b[0m\u001b[0;34m,\u001b[0m\u001b[0;34m\u001b[0m\u001b[0;34m\u001b[0m\u001b[0m\n",
      "\u001b[0;32m~/Library/Python/3.8/lib/python/site-packages/pandas/io/sql.py\u001b[0m in \u001b[0;36mto_sql\u001b[0;34m(self, frame, name, if_exists, index, index_label, schema, chunksize, dtype, method, **kwargs)\u001b[0m\n\u001b[1;32m   2223\u001b[0m             \u001b[0mdtype\u001b[0m\u001b[0;34m=\u001b[0m\u001b[0mdtype\u001b[0m\u001b[0;34m,\u001b[0m\u001b[0;34m\u001b[0m\u001b[0;34m\u001b[0m\u001b[0m\n\u001b[1;32m   2224\u001b[0m         )\n\u001b[0;32m-> 2225\u001b[0;31m         \u001b[0mtable\u001b[0m\u001b[0;34m.\u001b[0m\u001b[0mcreate\u001b[0m\u001b[0;34m(\u001b[0m\u001b[0;34m)\u001b[0m\u001b[0;34m\u001b[0m\u001b[0;34m\u001b[0m\u001b[0m\n\u001b[0m\u001b[1;32m   2226\u001b[0m         \u001b[0mtable\u001b[0m\u001b[0;34m.\u001b[0m\u001b[0minsert\u001b[0m\u001b[0;34m(\u001b[0m\u001b[0mchunksize\u001b[0m\u001b[0;34m,\u001b[0m \u001b[0mmethod\u001b[0m\u001b[0;34m)\u001b[0m\u001b[0;34m\u001b[0m\u001b[0;34m\u001b[0m\u001b[0m\n\u001b[1;32m   2227\u001b[0m \u001b[0;34m\u001b[0m\u001b[0m\n",
      "\u001b[0;32m~/Library/Python/3.8/lib/python/site-packages/pandas/io/sql.py\u001b[0m in \u001b[0;36mcreate\u001b[0;34m(self)\u001b[0m\n\u001b[1;32m    856\u001b[0m         \u001b[0;32mif\u001b[0m \u001b[0mself\u001b[0m\u001b[0;34m.\u001b[0m\u001b[0mexists\u001b[0m\u001b[0;34m(\u001b[0m\u001b[0;34m)\u001b[0m\u001b[0;34m:\u001b[0m\u001b[0;34m\u001b[0m\u001b[0;34m\u001b[0m\u001b[0m\n\u001b[1;32m    857\u001b[0m             \u001b[0;32mif\u001b[0m \u001b[0mself\u001b[0m\u001b[0;34m.\u001b[0m\u001b[0mif_exists\u001b[0m \u001b[0;34m==\u001b[0m \u001b[0;34m\"fail\"\u001b[0m\u001b[0;34m:\u001b[0m\u001b[0;34m\u001b[0m\u001b[0;34m\u001b[0m\u001b[0m\n\u001b[0;32m--> 858\u001b[0;31m                 \u001b[0;32mraise\u001b[0m \u001b[0mValueError\u001b[0m\u001b[0;34m(\u001b[0m\u001b[0;34mf\"Table '{self.name}' already exists.\"\u001b[0m\u001b[0;34m)\u001b[0m\u001b[0;34m\u001b[0m\u001b[0;34m\u001b[0m\u001b[0m\n\u001b[0m\u001b[1;32m    859\u001b[0m             \u001b[0;32melif\u001b[0m \u001b[0mself\u001b[0m\u001b[0;34m.\u001b[0m\u001b[0mif_exists\u001b[0m \u001b[0;34m==\u001b[0m \u001b[0;34m\"replace\"\u001b[0m\u001b[0;34m:\u001b[0m\u001b[0;34m\u001b[0m\u001b[0;34m\u001b[0m\u001b[0m\n\u001b[1;32m    860\u001b[0m                 \u001b[0mself\u001b[0m\u001b[0;34m.\u001b[0m\u001b[0mpd_sql\u001b[0m\u001b[0;34m.\u001b[0m\u001b[0mdrop_table\u001b[0m\u001b[0;34m(\u001b[0m\u001b[0mself\u001b[0m\u001b[0;34m.\u001b[0m\u001b[0mname\u001b[0m\u001b[0;34m,\u001b[0m \u001b[0mself\u001b[0m\u001b[0;34m.\u001b[0m\u001b[0mschema\u001b[0m\u001b[0;34m)\u001b[0m\u001b[0;34m\u001b[0m\u001b[0;34m\u001b[0m\u001b[0m\n",
      "\u001b[0;31mValueError\u001b[0m: Table 'bike' already exists."
     ]
    }
   ],
   "source": [
    "dfusage.to_sql('bike', conn)"
   ]
  },
  {
   "cell_type": "code",
   "execution_count": null,
   "metadata": {},
   "outputs": [
    {
     "data": {
      "text/html": "<div>\n<style scoped>\n    .dataframe tbody tr th:only-of-type {\n        vertical-align: middle;\n    }\n\n    .dataframe tbody tr th {\n        vertical-align: top;\n    }\n\n    .dataframe thead th {\n        text-align: right;\n    }\n</style>\n<table border=\"1\" class=\"dataframe\">\n  <thead>\n    <tr style=\"text-align: right;\">\n      <th></th>\n      <th>index</th>\n      <th>STATION_ID</th>\n      <th>TIME</th>\n      <th>LAST_UPDATED</th>\n      <th>NAME</th>\n      <th>BIKE_STANDS</th>\n      <th>AVAILABLE_BIKE_STANDS</th>\n      <th>AVAILABLE_BIKES</th>\n      <th>STATUS</th>\n      <th>ADDRESS</th>\n      <th>LATITUDE</th>\n      <th>LONGITUDE</th>\n    </tr>\n  </thead>\n  <tbody>\n    <tr>\n      <th>0</th>\n      <td>0</td>\n      <td>42</td>\n      <td>SMITHFIELD NORTH</td>\n      <td>Smithfield North</td>\n      <td>53.349562</td>\n      <td>-6.278198</td>\n      <td>None</td>\n      <td>None</td>\n      <td>None</td>\n      <td>None</td>\n      <td>None</td>\n      <td>None</td>\n    </tr>\n    <tr>\n      <th>1</th>\n      <td>1</td>\n      <td>30</td>\n      <td>PARNELL SQUARE NORTH</td>\n      <td>Parnell Square North</td>\n      <td>53.353462</td>\n      <td>-6.265305</td>\n      <td>None</td>\n      <td>None</td>\n      <td>None</td>\n      <td>None</td>\n      <td>None</td>\n      <td>None</td>\n    </tr>\n    <tr>\n      <th>2</th>\n      <td>2</td>\n      <td>54</td>\n      <td>CLONMEL STREET</td>\n      <td>Clonmel Street</td>\n      <td>53.336021</td>\n      <td>-6.262980</td>\n      <td>None</td>\n      <td>None</td>\n      <td>None</td>\n      <td>None</td>\n      <td>None</td>\n      <td>None</td>\n    </tr>\n    <tr>\n      <th>3</th>\n      <td>3</td>\n      <td>108</td>\n      <td>AVONDALE ROAD</td>\n      <td>Avondale Road</td>\n      <td>53.359405</td>\n      <td>-6.276142</td>\n      <td>None</td>\n      <td>None</td>\n      <td>None</td>\n      <td>None</td>\n      <td>None</td>\n      <td>None</td>\n    </tr>\n    <tr>\n      <th>4</th>\n      <td>4</td>\n      <td>56</td>\n      <td>MOUNT STREET LOWER</td>\n      <td>Mount Street Lower</td>\n      <td>53.337960</td>\n      <td>-6.241530</td>\n      <td>None</td>\n      <td>None</td>\n      <td>None</td>\n      <td>None</td>\n      <td>None</td>\n      <td>None</td>\n    </tr>\n  </tbody>\n</table>\n</div>",
      "text/plain": "   index  STATION_ID                  TIME          LAST_UPDATED       NAME  \\\n0      0          42      SMITHFIELD NORTH      Smithfield North  53.349562   \n1      1          30  PARNELL SQUARE NORTH  Parnell Square North  53.353462   \n2      2          54        CLONMEL STREET        Clonmel Street  53.336021   \n3      3         108         AVONDALE ROAD         Avondale Road  53.359405   \n4      4          56    MOUNT STREET LOWER    Mount Street Lower  53.337960   \n\n   BIKE_STANDS AVAILABLE_BIKE_STANDS AVAILABLE_BIKES STATUS ADDRESS LATITUDE  \\\n0    -6.278198                  None            None   None    None     None   \n1    -6.265305                  None            None   None    None     None   \n2    -6.262980                  None            None   None    None     None   \n3    -6.276142                  None            None   None    None     None   \n4    -6.241530                  None            None   None    None     None   \n\n  LONGITUDE  \n0      None  \n1      None  \n2      None  \n3      None  \n4      None  "
     },
     "execution_count": 55,
     "metadata": {},
     "output_type": "execute_result"
    }
   ],
   "source": [
    "pd.read_sql_query(\"SELECT * FROM bike LIMIT 5\", conn)"
   ]
  },
  {
   "cell_type": "code",
   "execution_count": null,
   "metadata": {},
   "outputs": [
    {
     "data": {
      "text/html": "<div>\n<style scoped>\n    .dataframe tbody tr th:only-of-type {\n        vertical-align: middle;\n    }\n\n    .dataframe tbody tr th {\n        vertical-align: top;\n    }\n\n    .dataframe thead th {\n        text-align: right;\n    }\n</style>\n<table border=\"1\" class=\"dataframe\">\n  <thead>\n    <tr style=\"text-align: right;\">\n      <th></th>\n      <th>index</th>\n      <th>STATION_ID</th>\n      <th>TIME</th>\n      <th>LAST_UPDATED</th>\n      <th>NAME</th>\n      <th>BIKE_STANDS</th>\n      <th>AVAILABLE_BIKE_STANDS</th>\n      <th>AVAILABLE_BIKES</th>\n      <th>STATUS</th>\n      <th>ADDRESS</th>\n      <th>LATITUDE</th>\n      <th>LONGITUDE</th>\n    </tr>\n  </thead>\n  <tbody>\n    <tr>\n      <th>0</th>\n      <td>86</td>\n      <td>86</td>\n      <td>PARKGATE STREET</td>\n      <td>Parkgate Street</td>\n      <td>53.347972</td>\n      <td>-6.291804</td>\n      <td>None</td>\n      <td>None</td>\n      <td>None</td>\n      <td>None</td>\n      <td>None</td>\n      <td>None</td>\n    </tr>\n    <tr>\n      <th>1</th>\n      <td>1</td>\n      <td>30</td>\n      <td>PARNELL SQUARE NORTH</td>\n      <td>Parnell Square North</td>\n      <td>53.353462</td>\n      <td>-6.265305</td>\n      <td>None</td>\n      <td>None</td>\n      <td>None</td>\n      <td>None</td>\n      <td>None</td>\n      <td>None</td>\n    </tr>\n    <tr>\n      <th>2</th>\n      <td>13</td>\n      <td>31</td>\n      <td>PARNELL STREET</td>\n      <td>Parnell Street</td>\n      <td>53.350929</td>\n      <td>-6.265125</td>\n      <td>None</td>\n      <td>None</td>\n      <td>None</td>\n      <td>None</td>\n      <td>None</td>\n      <td>None</td>\n    </tr>\n  </tbody>\n</table>\n</div>",
      "text/plain": "   index  STATION_ID                  TIME          LAST_UPDATED       NAME  \\\n0     86          86       PARKGATE STREET       Parkgate Street  53.347972   \n1      1          30  PARNELL SQUARE NORTH  Parnell Square North  53.353462   \n2     13          31        PARNELL STREET        Parnell Street  53.350929   \n\n   BIKE_STANDS AVAILABLE_BIKE_STANDS AVAILABLE_BIKES STATUS ADDRESS LATITUDE  \\\n0    -6.291804                  None            None   None    None     None   \n1    -6.265305                  None            None   None    None     None   \n2    -6.265125                  None            None   None    None     None   \n\n  LONGITUDE  \n0      None  \n1      None  \n2      None  "
     },
     "execution_count": 52,
     "metadata": {},
     "output_type": "execute_result"
    }
   ],
   "source": [
    "pd.read_sql_query(\"SELECT * FROM bike WHERE LOWER(time) LIKE 'PA%' ORDER BY time\", conn)"
   ]
  },
  {
   "cell_type": "code",
   "execution_count": null,
   "metadata": {},
   "outputs": [
    {
     "data": {
      "text/html": "<div>\n<style scoped>\n    .dataframe tbody tr th:only-of-type {\n        vertical-align: middle;\n    }\n\n    .dataframe tbody tr th {\n        vertical-align: top;\n    }\n\n    .dataframe thead th {\n        text-align: right;\n    }\n</style>\n<table border=\"1\" class=\"dataframe\">\n  <thead>\n    <tr style=\"text-align: right;\">\n      <th></th>\n      <th>index</th>\n      <th>STATION_ID</th>\n      <th>TIME</th>\n      <th>LAST_UPDATED</th>\n      <th>NAME</th>\n      <th>BIKE_STANDS</th>\n      <th>AVAILABLE_BIKE_STANDS</th>\n      <th>AVAILABLE_BIKES</th>\n      <th>STATUS</th>\n      <th>ADDRESS</th>\n      <th>LATITUDE</th>\n      <th>LONGITUDE</th>\n    </tr>\n  </thead>\n  <tbody>\n    <tr>\n      <th>0</th>\n      <td>86</td>\n      <td>86</td>\n      <td>PARKGATE STREET</td>\n      <td>Parkgate Street</td>\n      <td>53.347972</td>\n      <td>-6.291804</td>\n      <td>None</td>\n      <td>None</td>\n      <td>None</td>\n      <td>None</td>\n      <td>None</td>\n      <td>None</td>\n    </tr>\n    <tr>\n      <th>1</th>\n      <td>1</td>\n      <td>30</td>\n      <td>PARNELL SQUARE NORTH</td>\n      <td>Parnell Square North</td>\n      <td>53.353462</td>\n      <td>-6.265305</td>\n      <td>None</td>\n      <td>None</td>\n      <td>None</td>\n      <td>None</td>\n      <td>None</td>\n      <td>None</td>\n    </tr>\n    <tr>\n      <th>2</th>\n      <td>13</td>\n      <td>31</td>\n      <td>PARNELL STREET</td>\n      <td>Parnell Street</td>\n      <td>53.350929</td>\n      <td>-6.265125</td>\n      <td>None</td>\n      <td>None</td>\n      <td>None</td>\n      <td>None</td>\n      <td>None</td>\n      <td>None</td>\n    </tr>\n  </tbody>\n</table>\n</div>",
      "text/plain": "   index  STATION_ID                  TIME          LAST_UPDATED       NAME  \\\n0     86          86       PARKGATE STREET       Parkgate Street  53.347972   \n1      1          30  PARNELL SQUARE NORTH  Parnell Square North  53.353462   \n2     13          31        PARNELL STREET        Parnell Street  53.350929   \n\n   BIKE_STANDS AVAILABLE_BIKE_STANDS AVAILABLE_BIKES STATUS ADDRESS LATITUDE  \\\n0    -6.291804                  None            None   None    None     None   \n1    -6.265305                  None            None   None    None     None   \n2    -6.265125                  None            None   None    None     None   \n\n  LONGITUDE  \n0      None  \n1      None  \n2      None  "
     },
     "execution_count": 53,
     "metadata": {},
     "output_type": "execute_result"
    }
   ],
   "source": [
    "pd.read_sql_query(\"select * from bike where lower(TIME) like 'PA%' order by TIME\", conn)"
   ]
  }
 ],
 "metadata": {
  "kernelspec": {
   "display_name": "Python 3.8.2 64-bit",
   "name": "python382jvsc74a57bd031f2aee4e71d21fbe5cf8b01ff0e069b9275f58929596ceb00d14d90e3e16cd6"
  },
  "language_info": {
   "codemirror_mode": {
    "name": "ipython",
    "version": 3
   },
   "file_extension": ".py",
   "mimetype": "text/x-python",
   "name": "python",
   "nbconvert_exporter": "python",
   "pygments_lexer": "ipython3",
   "version": "3.8.2"
  },
  "metadata": {
   "interpreter": {
    "hash": "31f2aee4e71d21fbe5cf8b01ff0e069b9275f58929596ceb00d14d90e3e16cd6"
   }
  },
  "orig_nbformat": 2
 },
 "nbformat": 4,
 "nbformat_minor": 2
}
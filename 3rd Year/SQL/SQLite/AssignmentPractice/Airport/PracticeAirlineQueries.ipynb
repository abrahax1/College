{
 "cells": [
  {
   "cell_type": "markdown",
   "metadata": {},
   "source": [
    "This program connects to the airline db and runs queries - projection, selection, inner and left join and aggregation."
   ]
  },
  {
   "cell_type": "code",
   "execution_count": 1,
   "metadata": {},
   "outputs": [],
   "source": [
    "import sqlite3 as sql\n",
    "import pandas as pd\n",
    "conn = sql.connect('airline.db')\n",
    "cursor = conn.cursor()"
   ]
  },
  {
   "cell_type": "markdown",
   "metadata": {},
   "source": [
    "Different types of queries:\n",
    "\n",
    "-  projection\n",
    "-  selection\n",
    "-  join (inner join, left join, ~~full join~~)\n",
    "-  aggregation\n",
    "-  sub-query\n",
    "-  set operators"
   ]
  },
  {
   "cell_type": "markdown",
   "metadata": {},
   "source": [
    " ### projection\n",
    " \n",
    " As we know, projection means returning just some of the columns from a dataset.  Here we project just the airline's name, callsign and country."
   ]
  },
  {
   "cell_type": "code",
   "execution_count": 2,
   "metadata": {},
   "outputs": [
    {
     "data": {
      "text/html": "<div>\n<style scoped>\n    .dataframe tbody tr th:only-of-type {\n        vertical-align: middle;\n    }\n\n    .dataframe tbody tr th {\n        vertical-align: top;\n    }\n\n    .dataframe thead th {\n        text-align: right;\n    }\n</style>\n<table border=\"1\" class=\"dataframe\">\n  <thead>\n    <tr style=\"text-align: right;\">\n      <th></th>\n      <th>AirlineName</th>\n      <th>Callsign</th>\n      <th>Country</th>\n    </tr>\n  </thead>\n  <tbody>\n    <tr>\n      <th>0</th>\n      <td>1-2-go</td>\n      <td>None</td>\n      <td>Thailand</td>\n    </tr>\n    <tr>\n      <th>1</th>\n      <td>12 North</td>\n      <td>12N</td>\n      <td>India</td>\n    </tr>\n    <tr>\n      <th>2</th>\n      <td>135 Airways</td>\n      <td>GENERAL</td>\n      <td>United States</td>\n    </tr>\n    <tr>\n      <th>3</th>\n      <td>1Time Airline</td>\n      <td>NEXTIME</td>\n      <td>South Africa</td>\n    </tr>\n    <tr>\n      <th>4</th>\n      <td>2 Sqn No 1 Elementary Flying Training School</td>\n      <td>None</td>\n      <td>United Kingdom</td>\n    </tr>\n  </tbody>\n</table>\n</div>",
      "text/plain": "                                    AirlineName Callsign         Country\n0                                        1-2-go     None        Thailand\n1                                      12 North      12N           India\n2                                   135 Airways  GENERAL   United States\n3                                 1Time Airline  NEXTIME    South Africa\n4  2 Sqn No 1 Elementary Flying Training School     None  United Kingdom"
     },
     "execution_count": 2,
     "metadata": {},
     "output_type": "execute_result"
    }
   ],
   "source": [
    "pd.read_sql_query(\"select distinct airlinename, callsign, country  from airline \\\n",
    "order by airlinename limit 5\",conn)"
   ]
  },
  {
   "cell_type": "markdown",
   "metadata": {},
   "source": [
    " ### selection\n",
    " \n",
    " Selection, in relational algebra, means only returning some of the <em>rows</em> from the dataset."
   ]
  },
  {
   "cell_type": "code",
   "execution_count": 3,
   "metadata": {},
   "outputs": [
    {
     "data": {
      "text/html": "<div>\n<style scoped>\n    .dataframe tbody tr th:only-of-type {\n        vertical-align: middle;\n    }\n\n    .dataframe tbody tr th {\n        vertical-align: top;\n    }\n\n    .dataframe thead th {\n        text-align: right;\n    }\n</style>\n<table border=\"1\" class=\"dataframe\">\n  <thead>\n    <tr style=\"text-align: right;\">\n      <th></th>\n      <th>AirlineName</th>\n    </tr>\n  </thead>\n  <tbody>\n    <tr>\n      <th>0</th>\n      <td>AERFI Group</td>\n    </tr>\n    <tr>\n      <th>1</th>\n      <td>Aer Arann</td>\n    </tr>\n    <tr>\n      <th>2</th>\n      <td>Aer Lingus</td>\n    </tr>\n    <tr>\n      <th>3</th>\n      <td>Aer Turas</td>\n    </tr>\n    <tr>\n      <th>4</th>\n      <td>Aerea Flying Training Organization</td>\n    </tr>\n    <tr>\n      <th>...</th>\n      <td>...</td>\n    </tr>\n    <tr>\n      <th>396</th>\n      <td>Aerovitro</td>\n    </tr>\n    <tr>\n      <th>397</th>\n      <td>Aerovuelox</td>\n    </tr>\n    <tr>\n      <th>398</th>\n      <td>Aeroway</td>\n    </tr>\n    <tr>\n      <th>399</th>\n      <td>Aeroxtra</td>\n    </tr>\n    <tr>\n      <th>400</th>\n      <td>Aeroynamics Malaga</td>\n    </tr>\n  </tbody>\n</table>\n<p>401 rows × 1 columns</p>\n</div>",
      "text/plain": "                            AirlineName\n0                           AERFI Group\n1                             Aer Arann\n2                            Aer Lingus\n3                             Aer Turas\n4    Aerea Flying Training Organization\n..                                  ...\n396                           Aerovitro\n397                          Aerovuelox\n398                             Aeroway\n399                            Aeroxtra\n400                  Aeroynamics Malaga\n\n[401 rows x 1 columns]"
     },
     "execution_count": 3,
     "metadata": {},
     "output_type": "execute_result"
    }
   ],
   "source": [
    "pd.read_sql_query(\"select airlinename from airline \\\n",
    "where lower(airlinename) like 'aer%' order by airlinename\",conn)"
   ]
  },
  {
   "cell_type": "markdown",
   "metadata": {},
   "source": [
    "  ### Joins\n",
    "    \n",
    "   - Inner join.  This example joins the route to the airline.  First, we'll select from both, to get the column names.  Then  we'll join the airline's id to the route's airlineid."
   ]
  },
  {
   "cell_type": "code",
   "execution_count": 4,
   "metadata": {},
   "outputs": [
    {
     "data": {
      "text/html": "<div>\n<style scoped>\n    .dataframe tbody tr th:only-of-type {\n        vertical-align: middle;\n    }\n\n    .dataframe tbody tr th {\n        vertical-align: top;\n    }\n\n    .dataframe thead th {\n        text-align: right;\n    }\n</style>\n<table border=\"1\" class=\"dataframe\">\n  <thead>\n    <tr style=\"text-align: right;\">\n      <th></th>\n      <th>index</th>\n      <th>Code</th>\n      <th>AirlineID</th>\n      <th>OriginIATA</th>\n      <th>OriginID</th>\n      <th>DestIATA</th>\n      <th>DestID</th>\n      <th>Codeshare</th>\n      <th>StopNums</th>\n      <th>Equip</th>\n    </tr>\n  </thead>\n  <tbody>\n    <tr>\n      <th>0</th>\n      <td>0</td>\n      <td>2B</td>\n      <td>410</td>\n      <td>AER</td>\n      <td>2965</td>\n      <td>KZN</td>\n      <td>2990</td>\n      <td>None</td>\n      <td>0</td>\n      <td>CR2</td>\n    </tr>\n    <tr>\n      <th>1</th>\n      <td>1</td>\n      <td>2B</td>\n      <td>410</td>\n      <td>ASF</td>\n      <td>2966</td>\n      <td>KZN</td>\n      <td>2990</td>\n      <td>None</td>\n      <td>0</td>\n      <td>CR2</td>\n    </tr>\n  </tbody>\n</table>\n</div>",
      "text/plain": "   index Code AirlineID OriginIATA OriginID DestIATA DestID Codeshare  \\\n0      0   2B       410        AER     2965      KZN   2990      None   \n1      1   2B       410        ASF     2966      KZN   2990      None   \n\n   StopNums Equip  \n0         0   CR2  \n1         0   CR2  "
     },
     "execution_count": 4,
     "metadata": {},
     "output_type": "execute_result"
    }
   ],
   "source": [
    "pd.read_sql_query(\"select * from route limit 2\", conn)"
   ]
  },
  {
   "cell_type": "code",
   "execution_count": 5,
   "metadata": {},
   "outputs": [
    {
     "data": {
      "text/html": "<div>\n<style scoped>\n    .dataframe tbody tr th:only-of-type {\n        vertical-align: middle;\n    }\n\n    .dataframe tbody tr th {\n        vertical-align: top;\n    }\n\n    .dataframe thead th {\n        text-align: right;\n    }\n</style>\n<table border=\"1\" class=\"dataframe\">\n  <thead>\n    <tr style=\"text-align: right;\">\n      <th></th>\n      <th>index</th>\n      <th>id</th>\n      <th>AirlineName</th>\n      <th>Alias</th>\n      <th>IATA</th>\n      <th>ICAO</th>\n      <th>Callsign</th>\n      <th>Country</th>\n      <th>Active</th>\n    </tr>\n  </thead>\n  <tbody>\n    <tr>\n      <th>0</th>\n      <td>0</td>\n      <td>-1</td>\n      <td>Unknown</td>\n      <td>\\N</td>\n      <td>-</td>\n      <td>None</td>\n      <td>\\N</td>\n      <td>\\N</td>\n      <td>Y</td>\n    </tr>\n    <tr>\n      <th>1</th>\n      <td>1</td>\n      <td>1</td>\n      <td>Private flight</td>\n      <td>\\N</td>\n      <td>-</td>\n      <td>None</td>\n      <td>None</td>\n      <td>None</td>\n      <td>Y</td>\n    </tr>\n  </tbody>\n</table>\n</div>",
      "text/plain": "   index  id     AirlineName Alias IATA  ICAO Callsign Country Active\n0      0  -1         Unknown    \\N    -  None       \\N      \\N      Y\n1      1   1  Private flight    \\N    -  None     None    None      Y"
     },
     "execution_count": 5,
     "metadata": {},
     "output_type": "execute_result"
    }
   ],
   "source": [
    "pd.read_sql_query(\"select * from airline limit 2\", conn)"
   ]
  },
  {
   "cell_type": "markdown",
   "metadata": {},
   "source": [
    "Now, the inner join"
   ]
  },
  {
   "cell_type": "code",
   "execution_count": 6,
   "metadata": {},
   "outputs": [
    {
     "data": {
      "text/html": "<div>\n<style scoped>\n    .dataframe tbody tr th:only-of-type {\n        vertical-align: middle;\n    }\n\n    .dataframe tbody tr th {\n        vertical-align: top;\n    }\n\n    .dataframe thead th {\n        text-align: right;\n    }\n</style>\n<table border=\"1\" class=\"dataframe\">\n  <thead>\n    <tr style=\"text-align: right;\">\n      <th></th>\n      <th>AirlineName</th>\n      <th>OriginIATA</th>\n      <th>DestIATA</th>\n    </tr>\n  </thead>\n  <tbody>\n    <tr>\n      <th>0</th>\n      <td>Aerocondor</td>\n      <td>AER</td>\n      <td>KZN</td>\n    </tr>\n    <tr>\n      <th>1</th>\n      <td>Aerocondor</td>\n      <td>ASF</td>\n      <td>KZN</td>\n    </tr>\n    <tr>\n      <th>2</th>\n      <td>Aerocondor</td>\n      <td>ASF</td>\n      <td>MRV</td>\n    </tr>\n    <tr>\n      <th>3</th>\n      <td>Aerocondor</td>\n      <td>CEK</td>\n      <td>KZN</td>\n    </tr>\n    <tr>\n      <th>4</th>\n      <td>Aerocondor</td>\n      <td>CEK</td>\n      <td>OVB</td>\n    </tr>\n    <tr>\n      <th>5</th>\n      <td>Aerocondor</td>\n      <td>DME</td>\n      <td>KZN</td>\n    </tr>\n    <tr>\n      <th>6</th>\n      <td>Aerocondor</td>\n      <td>DME</td>\n      <td>NBC</td>\n    </tr>\n    <tr>\n      <th>7</th>\n      <td>Aerocondor</td>\n      <td>DME</td>\n      <td>TGK</td>\n    </tr>\n    <tr>\n      <th>8</th>\n      <td>Aerocondor</td>\n      <td>DME</td>\n      <td>UUA</td>\n    </tr>\n    <tr>\n      <th>9</th>\n      <td>Aerocondor</td>\n      <td>EGO</td>\n      <td>KGD</td>\n    </tr>\n    <tr>\n      <th>10</th>\n      <td>Aerocondor</td>\n      <td>EGO</td>\n      <td>KZN</td>\n    </tr>\n    <tr>\n      <th>11</th>\n      <td>Aerocondor</td>\n      <td>GYD</td>\n      <td>NBC</td>\n    </tr>\n    <tr>\n      <th>12</th>\n      <td>Aerocondor</td>\n      <td>KGD</td>\n      <td>EGO</td>\n    </tr>\n    <tr>\n      <th>13</th>\n      <td>Aerocondor</td>\n      <td>KZN</td>\n      <td>AER</td>\n    </tr>\n    <tr>\n      <th>14</th>\n      <td>Aerocondor</td>\n      <td>KZN</td>\n      <td>ASF</td>\n    </tr>\n    <tr>\n      <th>15</th>\n      <td>Aerocondor</td>\n      <td>KZN</td>\n      <td>CEK</td>\n    </tr>\n    <tr>\n      <th>16</th>\n      <td>Aerocondor</td>\n      <td>KZN</td>\n      <td>DME</td>\n    </tr>\n    <tr>\n      <th>17</th>\n      <td>Aerocondor</td>\n      <td>KZN</td>\n      <td>EGO</td>\n    </tr>\n    <tr>\n      <th>18</th>\n      <td>Aerocondor</td>\n      <td>KZN</td>\n      <td>LED</td>\n    </tr>\n    <tr>\n      <th>19</th>\n      <td>Aerocondor</td>\n      <td>KZN</td>\n      <td>SVX</td>\n    </tr>\n  </tbody>\n</table>\n</div>",
      "text/plain": "   AirlineName OriginIATA DestIATA\n0   Aerocondor        AER      KZN\n1   Aerocondor        ASF      KZN\n2   Aerocondor        ASF      MRV\n3   Aerocondor        CEK      KZN\n4   Aerocondor        CEK      OVB\n5   Aerocondor        DME      KZN\n6   Aerocondor        DME      NBC\n7   Aerocondor        DME      TGK\n8   Aerocondor        DME      UUA\n9   Aerocondor        EGO      KGD\n10  Aerocondor        EGO      KZN\n11  Aerocondor        GYD      NBC\n12  Aerocondor        KGD      EGO\n13  Aerocondor        KZN      AER\n14  Aerocondor        KZN      ASF\n15  Aerocondor        KZN      CEK\n16  Aerocondor        KZN      DME\n17  Aerocondor        KZN      EGO\n18  Aerocondor        KZN      LED\n19  Aerocondor        KZN      SVX"
     },
     "execution_count": 6,
     "metadata": {},
     "output_type": "execute_result"
    }
   ],
   "source": [
    "pd.read_sql_query(\"select AirlineName, OriginIATA, DestIATA from route \\\n",
    "join airline on (airline.id = route.airlineid) limit 20\", conn)"
   ]
  },
  {
   "cell_type": "markdown",
   "metadata": {},
   "source": [
    " Left join - let's see if there are any airlines with no routes."
   ]
  },
  {
   "cell_type": "code",
   "execution_count": 7,
   "metadata": {},
   "outputs": [
    {
     "data": {
      "text/html": "<div>\n<style scoped>\n    .dataframe tbody tr th:only-of-type {\n        vertical-align: middle;\n    }\n\n    .dataframe tbody tr th {\n        vertical-align: top;\n    }\n\n    .dataframe thead th {\n        text-align: right;\n    }\n</style>\n<table border=\"1\" class=\"dataframe\">\n  <thead>\n    <tr style=\"text-align: right;\">\n      <th></th>\n      <th>id</th>\n      <th>AirlineName</th>\n      <th>OriginIATA</th>\n      <th>DestIATA</th>\n    </tr>\n  </thead>\n  <tbody>\n    <tr>\n      <th>0</th>\n      <td>-1</td>\n      <td>Unknown</td>\n      <td>None</td>\n      <td>None</td>\n    </tr>\n    <tr>\n      <th>1</th>\n      <td>1</td>\n      <td>Private flight</td>\n      <td>None</td>\n      <td>None</td>\n    </tr>\n    <tr>\n      <th>2</th>\n      <td>2</td>\n      <td>135 Airways</td>\n      <td>None</td>\n      <td>None</td>\n    </tr>\n    <tr>\n      <th>3</th>\n      <td>3</td>\n      <td>1Time Airline</td>\n      <td>None</td>\n      <td>None</td>\n    </tr>\n    <tr>\n      <th>4</th>\n      <td>4</td>\n      <td>2 Sqn No 1 Elementary Flying Training School</td>\n      <td>None</td>\n      <td>None</td>\n    </tr>\n    <tr>\n      <th>5</th>\n      <td>5</td>\n      <td>213 Flight Unit</td>\n      <td>None</td>\n      <td>None</td>\n    </tr>\n    <tr>\n      <th>6</th>\n      <td>6</td>\n      <td>223 Flight Unit State Airline</td>\n      <td>None</td>\n      <td>None</td>\n    </tr>\n    <tr>\n      <th>7</th>\n      <td>7</td>\n      <td>224th Flight Unit</td>\n      <td>None</td>\n      <td>None</td>\n    </tr>\n    <tr>\n      <th>8</th>\n      <td>8</td>\n      <td>247 Jet Ltd</td>\n      <td>None</td>\n      <td>None</td>\n    </tr>\n    <tr>\n      <th>9</th>\n      <td>9</td>\n      <td>3D Aviation</td>\n      <td>None</td>\n      <td>None</td>\n    </tr>\n    <tr>\n      <th>10</th>\n      <td>11</td>\n      <td>4D Air</td>\n      <td>None</td>\n      <td>None</td>\n    </tr>\n    <tr>\n      <th>11</th>\n      <td>12</td>\n      <td>611897 Alberta Limited</td>\n      <td>None</td>\n      <td>None</td>\n    </tr>\n    <tr>\n      <th>12</th>\n      <td>13</td>\n      <td>Ansett Australia</td>\n      <td>None</td>\n      <td>None</td>\n    </tr>\n    <tr>\n      <th>13</th>\n      <td>14</td>\n      <td>Abacus International</td>\n      <td>None</td>\n      <td>None</td>\n    </tr>\n    <tr>\n      <th>14</th>\n      <td>15</td>\n      <td>Abelag Aviation</td>\n      <td>None</td>\n      <td>None</td>\n    </tr>\n    <tr>\n      <th>15</th>\n      <td>16</td>\n      <td>Army Air Corps</td>\n      <td>None</td>\n      <td>None</td>\n    </tr>\n    <tr>\n      <th>16</th>\n      <td>17</td>\n      <td>Aero Aviation Centre Ltd.</td>\n      <td>None</td>\n      <td>None</td>\n    </tr>\n    <tr>\n      <th>17</th>\n      <td>18</td>\n      <td>Aero Servicios Ejecutivos Internacionales</td>\n      <td>None</td>\n      <td>None</td>\n    </tr>\n    <tr>\n      <th>18</th>\n      <td>19</td>\n      <td>Aero Biniza</td>\n      <td>None</td>\n      <td>None</td>\n    </tr>\n    <tr>\n      <th>19</th>\n      <td>20</td>\n      <td>Aero Albatros</td>\n      <td>None</td>\n      <td>None</td>\n    </tr>\n  </tbody>\n</table>\n</div>",
      "text/plain": "    id                                   AirlineName OriginIATA DestIATA\n0   -1                                       Unknown       None     None\n1    1                                Private flight       None     None\n2    2                                   135 Airways       None     None\n3    3                                 1Time Airline       None     None\n4    4  2 Sqn No 1 Elementary Flying Training School       None     None\n5    5                               213 Flight Unit       None     None\n6    6                 223 Flight Unit State Airline       None     None\n7    7                             224th Flight Unit       None     None\n8    8                                   247 Jet Ltd       None     None\n9    9                                   3D Aviation       None     None\n10  11                                        4D Air       None     None\n11  12                        611897 Alberta Limited       None     None\n12  13                              Ansett Australia       None     None\n13  14                          Abacus International       None     None\n14  15                               Abelag Aviation       None     None\n15  16                                Army Air Corps       None     None\n16  17                     Aero Aviation Centre Ltd.       None     None\n17  18     Aero Servicios Ejecutivos Internacionales       None     None\n18  19                                   Aero Biniza       None     None\n19  20                                 Aero Albatros       None     None"
     },
     "execution_count": 7,
     "metadata": {},
     "output_type": "execute_result"
    }
   ],
   "source": [
    "pd.read_sql_query(\"select  id, AirlineName, OriginIATA, DestIATA from airline \\\n",
    "left join route on (airline.id = route.airlineid)  \\\n",
    "where  DestIATA is null \\\n",
    " limit 20\", conn)"
   ]
  },
  {
   "cell_type": "markdown",
   "metadata": {},
   "source": [
    " ### Left join\n",
    "    - We'll use the left join to see which airlines have no routes"
   ]
  },
  {
   "cell_type": "markdown",
   "metadata": {},
   "source": [
    " What about routes with no airlines?  SQLite doesn't support right joins or full joins, so we can use a left join, swapping the order of the tables."
   ]
  },
  {
   "cell_type": "code",
   "execution_count": null,
   "metadata": {},
   "outputs": [],
   "source": [
    "pd.read_sql_query(\"select  airlineid, AirlineName, OriginIATA, DestIATA from route \\\n",
    "left join airline on (airline.id = route.airlineid)  \\\n",
    "where  airlinename is null  \\\n",
    " limit 20\", conn)"
   ]
  },
  {
   "cell_type": "markdown",
   "metadata": {},
   "source": [
    "So we're getting  '\\\\N' in some columns and None in another.  Let's check to see what the data for one of the routes returned is.  We'll take the one with origin IATA AKV and destination IATA YIK"
   ]
  },
  {
   "cell_type": "code",
   "execution_count": null,
   "metadata": {},
   "outputs": [],
   "source": [
    "pd.read_sql_query(\"select  airlineid, AirlineName, OriginIATA, DestIATA from route \\\n",
    "left join airline on (airline.id = route.airlineid)  \\\n",
    "where  originIATA='AKV' and DestIATA = 'YIK'  \\\n",
    " limit 20\", conn)"
   ]
  },
  {
   "cell_type": "markdown",
   "metadata": {},
   "source": [
    "That's telling us that many routes have no airline operating them.  I'll check the number, by leaving off the 'limit'"
   ]
  },
  {
   "cell_type": "code",
   "execution_count": null,
   "metadata": {},
   "outputs": [],
   "source": [
    "pd.read_sql_query(\"select * from route where AirlineId = '\\\\N' \\\n",
    "\", conn)"
   ]
  },
  {
   "cell_type": "markdown",
   "metadata": {},
   "source": [
    " ### Aggregation\n",
    "\n",
    "So, let's see how many airlines operate fewer than 3 routes"
   ]
  },
  {
   "cell_type": "code",
   "execution_count": null,
   "metadata": {},
   "outputs": [],
   "source": [
    "pd.read_sql_query(\"select airlinename, count(originid) NoRoutes from route \\\n",
    "left join airline on (route.airlineid = airline.id) \\\n",
    "group by airlinename \\\n",
    "having count(originid) < 3 \\\n",
    "order by NoRoutes\", conn)"
   ]
  },
  {
   "cell_type": "markdown",
   "metadata": {},
   "source": [
    "Eurowings seems to be operating a route - let's see what it is."
   ]
  },
  {
   "cell_type": "code",
   "execution_count": null,
   "metadata": {},
   "outputs": [],
   "source": [
    "pd.read_sql_query(\"select * from airline join route on (id=airlineid) \\\n",
    "where airlinename = 'Eurowings'\", conn)"
   ]
  },
  {
   "cell_type": "markdown",
   "metadata": {},
   "source": [
    " ### Sub-query\n",
    " \n",
    "Let's look at all the routes operated by our few-route airlines"
   ]
  },
  {
   "cell_type": "code",
   "execution_count": null,
   "metadata": {},
   "outputs": [],
   "source": [
    "pd.read_sql_query(\"select * from airline join route on (id=airlineid) \\\n",
    "where airlinename in (select airlinename \\\n",
    " from route \\\n",
    "left join airline on (route.airlineid = airline.id) \\\n",
    "group by airlinename \\\n",
    "having count(originIATA) < 3) \\\n",
    "order by airlinename\", conn)"
   ]
  },
  {
   "cell_type": "markdown",
   "metadata": {},
   "source": [
    " ### Views\n",
    "\n",
    "\n",
    "    We often use views when using set operators.  We can check to see what's in our database and we can create a view.\n",
    "    \n",
    "    Let's make a view of Ryanair routes.  First we'll display them, then we'll get the airport info and make a view."
   ]
  },
  {
   "cell_type": "code",
   "execution_count": null,
   "metadata": {},
   "outputs": [],
   "source": [
    "pd.read_sql_query(\"select * from route join airline on (route.airlineid = airline.id) \\\n",
    "where lower(airlinename) like 'ryanair'\",conn)"
   ]
  },
  {
   "cell_type": "markdown",
   "metadata": {},
   "source": [
    "Make it easier to read, by adding the airport information from origin and destination."
   ]
  },
  {
   "cell_type": "code",
   "execution_count": null,
   "metadata": {},
   "outputs": [],
   "source": [
    "pd.read_sql_query(\"select \\\n",
    "oa.name FromPort, oa.city FromCity, oa.country FromCountry, \\\n",
    "da.name ToPort, da.city ToCity, da.country ToCountry \\\n",
    "from route \\\n",
    "join airline on (route.airlineid = airline.id) \\\n",
    "join airport oa on (route.originid = oa.id) \\\n",
    "join airport da on (route.destid=da.id) \\\n",
    "where lower(airlinename) like 'ryanair'\",conn)"
   ]
  },
  {
   "cell_type": "markdown",
   "metadata": {},
   "source": [
    "Now let's make a view of it."
   ]
  },
  {
   "cell_type": "code",
   "execution_count": null,
   "metadata": {},
   "outputs": [],
   "source": [
    "cursor.execute(\"Drop view if exists raroute\")\n",
    "conn.execute(\"\"\" create view RAroute as select \\\n",
    "oa.name FromPort, oa.city FromCity, oa.country FromCountry, \\\n",
    "da.name ToPort, da.city ToCity, da.country ToCountry \\\n",
    "from route \\\n",
    "join airline on (route.airlineid = airline.id) \\\n",
    "join airport oa on (route.originid = oa.id) \\\n",
    "join airport da on (route.destid=da.id) \\\n",
    "where lower(airlinename) like 'ryanair'\"\"\")"
   ]
  },
  {
   "cell_type": "code",
   "execution_count": null,
   "metadata": {},
   "outputs": [],
   "source": [
    "cursor.execute(\"SELECT name FROM sqlite_master WHERE type in ('table','view');\")\n",
    "print(cursor.fetchall())"
   ]
  },
  {
   "cell_type": "code",
   "execution_count": null,
   "metadata": {},
   "outputs": [],
   "source": [
    "pd.read_sql_query(\"select count(*) from raroute\", conn)"
   ]
  },
  {
   "cell_type": "code",
   "execution_count": null,
   "metadata": {},
   "outputs": [],
   "source": [
    "pd.read_sql_query(\"select * from raroute limit 10\", conn)"
   ]
  },
  {
   "cell_type": "code",
   "execution_count": null,
   "metadata": {},
   "outputs": [],
   "source": [
    "pd.read_sql_query(\"select * from raroute where ToCountry = 'Spain'\", conn)"
   ]
  },
  {
   "cell_type": "code",
   "execution_count": null,
   "metadata": {},
   "outputs": [],
   "source": [
    "pd.read_sql_query(\"select FromCountry, ToCountry from raroute\", conn)"
   ]
  },
  {
   "cell_type": "code",
   "execution_count": null,
   "metadata": {},
   "outputs": [],
   "source": [
    "pd.read_sql_query(\"select FromCountry, ToCountry, count(*) NoRoutes \\\n",
    "from raroute group by FromCountry, ToCountry order by NoRoutes\\\n",
    "\", conn)"
   ]
  },
  {
   "cell_type": "code",
   "execution_count": null,
   "metadata": {},
   "outputs": [],
   "source": [
    "pd.read_sql_query(\"select * from  raroute where FromCountry = 'Cyprus' \", conn)"
   ]
  },
  {
   "cell_type": "code",
   "execution_count": null,
   "metadata": {},
   "outputs": [],
   "source": [
    "pd.read_sql_query(\"select * from  raroute where FromCountry = 'Latvia' \", conn)"
   ]
  },
  {
   "cell_type": "markdown",
   "metadata": {},
   "source": [
    "To prepare for our set operations, let's  get some sets.  e.g. \n",
    " - Pick out the Ryanair routes."
   ]
  },
  {
   "cell_type": "code",
   "execution_count": null,
   "metadata": {},
   "outputs": [],
   "source": [
    "pd.read_sql_query(\"select ToCountry, count(*) NoRoutes from  raroute \\\n",
    "where FromCountry = 'Ireland' \\\n",
    "group by ToCountry\", conn)"
   ]
  },
  {
   "cell_type": "code",
   "execution_count": null,
   "metadata": {},
   "outputs": [],
   "source": [
    "conn.close()"
   ]
  },
  {
   "cell_type": "code",
   "execution_count": null,
   "metadata": {},
   "outputs": [],
   "source": []
  }
 ],
 "metadata": {
  "kernelspec": {
   "display_name": "Python 3.8.2 64-bit",
   "name": "python382jvsc74a57bd031f2aee4e71d21fbe5cf8b01ff0e069b9275f58929596ceb00d14d90e3e16cd6"
  },
  "language_info": {
   "codemirror_mode": {
    "name": "ipython",
    "version": 3
   },
   "file_extension": ".py",
   "mimetype": "text/x-python",
   "name": "python",
   "nbconvert_exporter": "python",
   "pygments_lexer": "ipython3",
   "version": "3.8.2"
  },
  "metadata": {
   "interpreter": {
    "hash": "31f2aee4e71d21fbe5cf8b01ff0e069b9275f58929596ceb00d14d90e3e16cd6"
   }
  }
 },
 "nbformat": 4,
 "nbformat_minor": 2
}
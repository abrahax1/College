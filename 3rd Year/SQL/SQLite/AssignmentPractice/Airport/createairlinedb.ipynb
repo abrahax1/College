{
 "cells": [
  {
   "cell_type": "markdown",
   "metadata": {},
   "source": [
    "This program reads data from the Openflights.org website and stores them in a SQLite database.\n",
    "It runs 3 simple queries and one join."
   ]
  },
  {
   "cell_type": "code",
   "execution_count": 2,
   "metadata": {},
   "outputs": [],
   "source": [
    "import sqlite3 as sql\n",
    "import pandas as pd"
   ]
  },
  {
   "cell_type": "code",
   "execution_count": 3,
   "metadata": {},
   "outputs": [
    {
     "data": {
      "text/plain": "<sqlite3.Cursor at 0x12b46a420>"
     },
     "execution_count": 3,
     "metadata": {},
     "output_type": "execute_result"
    }
   ],
   "source": [
    "conn = sql.connect('airline.db')\n",
    "cursor = conn.cursor()\n",
    "\n",
    "cursor.execute(\"Drop table if exists route\")\n",
    "cursor.execute(\"Drop table if exists airport\")\n",
    "cursor.execute(\"Drop table  if exists airline\")"
   ]
  },
  {
   "cell_type": "code",
   "execution_count": 4,
   "metadata": {},
   "outputs": [
    {
     "data": {
      "text/html": "<div>\n<style scoped>\n    .dataframe tbody tr th:only-of-type {\n        vertical-align: middle;\n    }\n\n    .dataframe tbody tr th {\n        vertical-align: top;\n    }\n\n    .dataframe thead th {\n        text-align: right;\n    }\n</style>\n<table border=\"1\" class=\"dataframe\">\n  <thead>\n    <tr style=\"text-align: right;\">\n      <th></th>\n      <th>1</th>\n      <th>Goroka Airport</th>\n      <th>Goroka</th>\n      <th>Papua New Guinea</th>\n      <th>GKA</th>\n      <th>AYGA</th>\n      <th>-6.081689834590001</th>\n      <th>145.391998291</th>\n      <th>5282</th>\n      <th>10</th>\n      <th>U</th>\n      <th>Pacific/Port_Moresby</th>\n      <th>airport</th>\n      <th>OurAirports</th>\n    </tr>\n  </thead>\n  <tbody>\n    <tr>\n      <th>0</th>\n      <td>2</td>\n      <td>Madang Airport</td>\n      <td>Madang</td>\n      <td>Papua New Guinea</td>\n      <td>MAG</td>\n      <td>AYMD</td>\n      <td>-5.207080</td>\n      <td>145.789001</td>\n      <td>20</td>\n      <td>10</td>\n      <td>U</td>\n      <td>Pacific/Port_Moresby</td>\n      <td>airport</td>\n      <td>OurAirports</td>\n    </tr>\n    <tr>\n      <th>1</th>\n      <td>3</td>\n      <td>Mount Hagen Kagamuga Airport</td>\n      <td>Mount Hagen</td>\n      <td>Papua New Guinea</td>\n      <td>HGU</td>\n      <td>AYMH</td>\n      <td>-5.826790</td>\n      <td>144.296005</td>\n      <td>5388</td>\n      <td>10</td>\n      <td>U</td>\n      <td>Pacific/Port_Moresby</td>\n      <td>airport</td>\n      <td>OurAirports</td>\n    </tr>\n    <tr>\n      <th>2</th>\n      <td>4</td>\n      <td>Nadzab Airport</td>\n      <td>Nadzab</td>\n      <td>Papua New Guinea</td>\n      <td>LAE</td>\n      <td>AYNZ</td>\n      <td>-6.569803</td>\n      <td>146.725977</td>\n      <td>239</td>\n      <td>10</td>\n      <td>U</td>\n      <td>Pacific/Port_Moresby</td>\n      <td>airport</td>\n      <td>OurAirports</td>\n    </tr>\n    <tr>\n      <th>3</th>\n      <td>5</td>\n      <td>Port Moresby Jacksons International Airport</td>\n      <td>Port Moresby</td>\n      <td>Papua New Guinea</td>\n      <td>POM</td>\n      <td>AYPY</td>\n      <td>-9.443380</td>\n      <td>147.220001</td>\n      <td>146</td>\n      <td>10</td>\n      <td>U</td>\n      <td>Pacific/Port_Moresby</td>\n      <td>airport</td>\n      <td>OurAirports</td>\n    </tr>\n    <tr>\n      <th>4</th>\n      <td>6</td>\n      <td>Wewak International Airport</td>\n      <td>Wewak</td>\n      <td>Papua New Guinea</td>\n      <td>WWK</td>\n      <td>AYWK</td>\n      <td>-3.583830</td>\n      <td>143.669006</td>\n      <td>19</td>\n      <td>10</td>\n      <td>U</td>\n      <td>Pacific/Port_Moresby</td>\n      <td>airport</td>\n      <td>OurAirports</td>\n    </tr>\n  </tbody>\n</table>\n</div>",
      "text/plain": "   1                               Goroka Airport        Goroka  \\\n0  2                               Madang Airport        Madang   \n1  3                 Mount Hagen Kagamuga Airport   Mount Hagen   \n2  4                               Nadzab Airport        Nadzab   \n3  5  Port Moresby Jacksons International Airport  Port Moresby   \n4  6                  Wewak International Airport         Wewak   \n\n   Papua New Guinea  GKA  AYGA  -6.081689834590001  145.391998291  5282  10  \\\n0  Papua New Guinea  MAG  AYMD           -5.207080     145.789001    20  10   \n1  Papua New Guinea  HGU  AYMH           -5.826790     144.296005  5388  10   \n2  Papua New Guinea  LAE  AYNZ           -6.569803     146.725977   239  10   \n3  Papua New Guinea  POM  AYPY           -9.443380     147.220001   146  10   \n4  Papua New Guinea  WWK  AYWK           -3.583830     143.669006    19  10   \n\n   U  Pacific/Port_Moresby  airport  OurAirports  \n0  U  Pacific/Port_Moresby  airport  OurAirports  \n1  U  Pacific/Port_Moresby  airport  OurAirports  \n2  U  Pacific/Port_Moresby  airport  OurAirports  \n3  U  Pacific/Port_Moresby  airport  OurAirports  \n4  U  Pacific/Port_Moresby  airport  OurAirports  "
     },
     "execution_count": 4,
     "metadata": {},
     "output_type": "execute_result"
    }
   ],
   "source": [
    "airportfile=\"airports.csv\"\n",
    "dfport = pd.read_csv(airportfile, index_col=None, encoding = \"ISO-8859-1\")\n",
    "dfport.head()"
   ]
  },
  {
   "cell_type": "markdown",
   "metadata": {},
   "source": [
    "Routes columns\n",
    " - Airline\t2-letter (IATA) or 3-letter (ICAO) code of the airline.\n",
    " - Airline ID\tUnique OpenFlights identifier for airline (see Airline).\n",
    " - Source airport\t3-letter (IATA) or 4-letter (ICAO) code of the source airport.\n",
    " - Source airport ID\tUnique OpenFlights identifier for source airport (see Airport)\n",
    " - Destination airport\t3-letter (IATA) or 4-letter (ICAO) code of the destination airport.\n",
    " - Destination airport ID\tUnique OpenFlights identifier for destination airport (see Airport)\n",
    " - Codeshare\t\"Y\" if this flight is a codeshare (that is, not operated by Airline, but another carrier), empty otherwise.\n",
    " - Stops\tNumber of stops on this flight (\"0\" for direct)\n",
    " - Equipment\t3-letter codes for plane type(s) generally used on this flight, separated by spaces"
   ]
  },
  {
   "cell_type": "code",
   "execution_count": 5,
   "metadata": {},
   "outputs": [
    {
     "data": {
      "text/html": "<div>\n<style scoped>\n    .dataframe tbody tr th:only-of-type {\n        vertical-align: middle;\n    }\n\n    .dataframe tbody tr th {\n        vertical-align: top;\n    }\n\n    .dataframe thead th {\n        text-align: right;\n    }\n</style>\n<table border=\"1\" class=\"dataframe\">\n  <thead>\n    <tr style=\"text-align: right;\">\n      <th></th>\n      <th>Code</th>\n      <th>AirlineID</th>\n      <th>OriginIATA</th>\n      <th>OriginID</th>\n      <th>DestIATA</th>\n      <th>DestID</th>\n      <th>Codeshare</th>\n      <th>StopNums</th>\n      <th>Equip</th>\n    </tr>\n  </thead>\n  <tbody>\n    <tr>\n      <th>0</th>\n      <td>2B</td>\n      <td>410</td>\n      <td>AER</td>\n      <td>2965</td>\n      <td>KZN</td>\n      <td>2990</td>\n      <td>NaN</td>\n      <td>0</td>\n      <td>CR2</td>\n    </tr>\n    <tr>\n      <th>1</th>\n      <td>2B</td>\n      <td>410</td>\n      <td>ASF</td>\n      <td>2966</td>\n      <td>KZN</td>\n      <td>2990</td>\n      <td>NaN</td>\n      <td>0</td>\n      <td>CR2</td>\n    </tr>\n    <tr>\n      <th>2</th>\n      <td>2B</td>\n      <td>410</td>\n      <td>ASF</td>\n      <td>2966</td>\n      <td>MRV</td>\n      <td>2962</td>\n      <td>NaN</td>\n      <td>0</td>\n      <td>CR2</td>\n    </tr>\n    <tr>\n      <th>3</th>\n      <td>2B</td>\n      <td>410</td>\n      <td>CEK</td>\n      <td>2968</td>\n      <td>KZN</td>\n      <td>2990</td>\n      <td>NaN</td>\n      <td>0</td>\n      <td>CR2</td>\n    </tr>\n    <tr>\n      <th>4</th>\n      <td>2B</td>\n      <td>410</td>\n      <td>CEK</td>\n      <td>2968</td>\n      <td>OVB</td>\n      <td>4078</td>\n      <td>NaN</td>\n      <td>0</td>\n      <td>CR2</td>\n    </tr>\n  </tbody>\n</table>\n</div>",
      "text/plain": "  Code AirlineID OriginIATA OriginID DestIATA DestID Codeshare  StopNums Equip\n0   2B       410        AER     2965      KZN   2990       NaN         0   CR2\n1   2B       410        ASF     2966      KZN   2990       NaN         0   CR2\n2   2B       410        ASF     2966      MRV   2962       NaN         0   CR2\n3   2B       410        CEK     2968      KZN   2990       NaN         0   CR2\n4   2B       410        CEK     2968      OVB   4078       NaN         0   CR2"
     },
     "execution_count": 5,
     "metadata": {},
     "output_type": "execute_result"
    }
   ],
   "source": [
    "#routefile = \"routes.csv\"\n",
    "routefile = \"https://raw.githubusercontent.com/jpatokal/openflights/master/data/routes.dat\"\n",
    "headers = [\"Code\", \"AirlineID\", \"OriginIATA\", \"OriginID\",\"DestIATA\", \"DestID\", \n",
    "           \"Codeshare\", \"StopNums\", \"Equip\"]\n",
    "dfrout = pd.read_csv(routefile, index_col=None,names=headers, encoding='utf-8')\n",
    "dfrout.head()"
   ]
  },
  {
   "cell_type": "code",
   "execution_count": 6,
   "metadata": {},
   "outputs": [
    {
     "data": {
      "text/html": "<div>\n<style scoped>\n    .dataframe tbody tr th:only-of-type {\n        vertical-align: middle;\n    }\n\n    .dataframe tbody tr th {\n        vertical-align: top;\n    }\n\n    .dataframe thead th {\n        text-align: right;\n    }\n</style>\n<table border=\"1\" class=\"dataframe\">\n  <thead>\n    <tr style=\"text-align: right;\">\n      <th></th>\n      <th>id</th>\n      <th>AirlineName</th>\n      <th>Alias</th>\n      <th>IATA</th>\n      <th>ICAO</th>\n      <th>Callsign</th>\n      <th>Country</th>\n      <th>Active</th>\n    </tr>\n  </thead>\n  <tbody>\n    <tr>\n      <th>0</th>\n      <td>-1</td>\n      <td>Unknown</td>\n      <td>\\N</td>\n      <td>-</td>\n      <td>NaN</td>\n      <td>\\N</td>\n      <td>\\N</td>\n      <td>Y</td>\n    </tr>\n    <tr>\n      <th>1</th>\n      <td>1</td>\n      <td>Private flight</td>\n      <td>\\N</td>\n      <td>-</td>\n      <td>NaN</td>\n      <td>NaN</td>\n      <td>NaN</td>\n      <td>Y</td>\n    </tr>\n    <tr>\n      <th>2</th>\n      <td>2</td>\n      <td>135 Airways</td>\n      <td>\\N</td>\n      <td>NaN</td>\n      <td>GNL</td>\n      <td>GENERAL</td>\n      <td>United States</td>\n      <td>N</td>\n    </tr>\n    <tr>\n      <th>3</th>\n      <td>3</td>\n      <td>1Time Airline</td>\n      <td>\\N</td>\n      <td>1T</td>\n      <td>RNX</td>\n      <td>NEXTIME</td>\n      <td>South Africa</td>\n      <td>Y</td>\n    </tr>\n    <tr>\n      <th>4</th>\n      <td>4</td>\n      <td>2 Sqn No 1 Elementary Flying Training School</td>\n      <td>\\N</td>\n      <td>NaN</td>\n      <td>WYT</td>\n      <td>NaN</td>\n      <td>United Kingdom</td>\n      <td>N</td>\n    </tr>\n  </tbody>\n</table>\n</div>",
      "text/plain": "   id                                   AirlineName Alias IATA ICAO Callsign  \\\n0  -1                                       Unknown    \\N    -  NaN       \\N   \n1   1                                Private flight    \\N    -  NaN      NaN   \n2   2                                   135 Airways    \\N  NaN  GNL  GENERAL   \n3   3                                 1Time Airline    \\N   1T  RNX  NEXTIME   \n4   4  2 Sqn No 1 Elementary Flying Training School    \\N  NaN  WYT      NaN   \n\n          Country Active  \n0              \\N      Y  \n1             NaN      Y  \n2   United States      N  \n3    South Africa      Y  \n4  United Kingdom      N  "
     },
     "execution_count": 6,
     "metadata": {},
     "output_type": "execute_result"
    }
   ],
   "source": [
    "airlinefile =\"https://raw.githubusercontent.com/jpatokal/openflights/master/data/airlines.dat\"\n",
    "headers = [\"id\", \"AirlineName\", \"Alias\", \"IATA\", \"ICAO\", \"Callsign\", \"Country\", \"Active\"]\n",
    "dfline = pd.read_csv(airlinefile, index_col=None, names=headers, encoding='utf-8')\n",
    "dfline.head()"
   ]
  },
  {
   "cell_type": "code",
   "execution_count": 7,
   "metadata": {},
   "outputs": [
    {
     "name": "stderr",
     "output_type": "stream",
     "text": [
      "/Users/abrahamizarra/Library/Python/3.8/lib/python/site-packages/pandas/core/generic.py:2872: UserWarning: The spaces in these column names will not be changed. In pandas versions < 0.14, spaces were converted to underscores.\n",
      "  sql.to_sql(\n"
     ]
    }
   ],
   "source": [
    "dfline.to_sql('airline', conn)\n",
    "dfport.to_sql('airport', conn)\n",
    "dfrout.to_sql('route', conn)"
   ]
  },
  {
   "cell_type": "code",
   "execution_count": 8,
   "metadata": {},
   "outputs": [
    {
     "data": {
      "text/html": "<div>\n<style scoped>\n    .dataframe tbody tr th:only-of-type {\n        vertical-align: middle;\n    }\n\n    .dataframe tbody tr th {\n        vertical-align: top;\n    }\n\n    .dataframe thead th {\n        text-align: right;\n    }\n</style>\n<table border=\"1\" class=\"dataframe\">\n  <thead>\n    <tr style=\"text-align: right;\">\n      <th></th>\n      <th>index</th>\n      <th>1</th>\n      <th>Goroka Airport</th>\n      <th>Goroka</th>\n      <th>Papua New Guinea</th>\n      <th>GKA</th>\n      <th>AYGA</th>\n      <th>-6.081689834590001</th>\n      <th>145.391998291</th>\n      <th>5282</th>\n      <th>10</th>\n      <th>U</th>\n      <th>Pacific/Port_Moresby</th>\n      <th>airport</th>\n      <th>OurAirports</th>\n    </tr>\n  </thead>\n  <tbody>\n    <tr>\n      <th>0</th>\n      <td>0</td>\n      <td>2</td>\n      <td>Madang Airport</td>\n      <td>Madang</td>\n      <td>Papua New Guinea</td>\n      <td>MAG</td>\n      <td>AYMD</td>\n      <td>-5.207080</td>\n      <td>145.789001</td>\n      <td>20</td>\n      <td>10</td>\n      <td>U</td>\n      <td>Pacific/Port_Moresby</td>\n      <td>airport</td>\n      <td>OurAirports</td>\n    </tr>\n    <tr>\n      <th>1</th>\n      <td>1</td>\n      <td>3</td>\n      <td>Mount Hagen Kagamuga Airport</td>\n      <td>Mount Hagen</td>\n      <td>Papua New Guinea</td>\n      <td>HGU</td>\n      <td>AYMH</td>\n      <td>-5.826790</td>\n      <td>144.296005</td>\n      <td>5388</td>\n      <td>10</td>\n      <td>U</td>\n      <td>Pacific/Port_Moresby</td>\n      <td>airport</td>\n      <td>OurAirports</td>\n    </tr>\n    <tr>\n      <th>2</th>\n      <td>2</td>\n      <td>4</td>\n      <td>Nadzab Airport</td>\n      <td>Nadzab</td>\n      <td>Papua New Guinea</td>\n      <td>LAE</td>\n      <td>AYNZ</td>\n      <td>-6.569803</td>\n      <td>146.725977</td>\n      <td>239</td>\n      <td>10</td>\n      <td>U</td>\n      <td>Pacific/Port_Moresby</td>\n      <td>airport</td>\n      <td>OurAirports</td>\n    </tr>\n    <tr>\n      <th>3</th>\n      <td>3</td>\n      <td>5</td>\n      <td>Port Moresby Jacksons International Airport</td>\n      <td>Port Moresby</td>\n      <td>Papua New Guinea</td>\n      <td>POM</td>\n      <td>AYPY</td>\n      <td>-9.443380</td>\n      <td>147.220001</td>\n      <td>146</td>\n      <td>10</td>\n      <td>U</td>\n      <td>Pacific/Port_Moresby</td>\n      <td>airport</td>\n      <td>OurAirports</td>\n    </tr>\n    <tr>\n      <th>4</th>\n      <td>4</td>\n      <td>6</td>\n      <td>Wewak International Airport</td>\n      <td>Wewak</td>\n      <td>Papua New Guinea</td>\n      <td>WWK</td>\n      <td>AYWK</td>\n      <td>-3.583830</td>\n      <td>143.669006</td>\n      <td>19</td>\n      <td>10</td>\n      <td>U</td>\n      <td>Pacific/Port_Moresby</td>\n      <td>airport</td>\n      <td>OurAirports</td>\n    </tr>\n  </tbody>\n</table>\n</div>",
      "text/plain": "   index  1                               Goroka Airport        Goroka  \\\n0      0  2                               Madang Airport        Madang   \n1      1  3                 Mount Hagen Kagamuga Airport   Mount Hagen   \n2      2  4                               Nadzab Airport        Nadzab   \n3      3  5  Port Moresby Jacksons International Airport  Port Moresby   \n4      4  6                  Wewak International Airport         Wewak   \n\n   Papua New Guinea  GKA  AYGA  -6.081689834590001  145.391998291  5282  10  \\\n0  Papua New Guinea  MAG  AYMD           -5.207080     145.789001    20  10   \n1  Papua New Guinea  HGU  AYMH           -5.826790     144.296005  5388  10   \n2  Papua New Guinea  LAE  AYNZ           -6.569803     146.725977   239  10   \n3  Papua New Guinea  POM  AYPY           -9.443380     147.220001   146  10   \n4  Papua New Guinea  WWK  AYWK           -3.583830     143.669006    19  10   \n\n   U  Pacific/Port_Moresby  airport  OurAirports  \n0  U  Pacific/Port_Moresby  airport  OurAirports  \n1  U  Pacific/Port_Moresby  airport  OurAirports  \n2  U  Pacific/Port_Moresby  airport  OurAirports  \n3  U  Pacific/Port_Moresby  airport  OurAirports  \n4  U  Pacific/Port_Moresby  airport  OurAirports  "
     },
     "execution_count": 8,
     "metadata": {},
     "output_type": "execute_result"
    }
   ],
   "source": [
    "pd.read_sql_query(\"select * from airport limit 5\",conn)"
   ]
  },
  {
   "cell_type": "code",
   "execution_count": 9,
   "metadata": {},
   "outputs": [
    {
     "data": {
      "text/html": "<div>\n<style scoped>\n    .dataframe tbody tr th:only-of-type {\n        vertical-align: middle;\n    }\n\n    .dataframe tbody tr th {\n        vertical-align: top;\n    }\n\n    .dataframe thead th {\n        text-align: right;\n    }\n</style>\n<table border=\"1\" class=\"dataframe\">\n  <thead>\n    <tr style=\"text-align: right;\">\n      <th></th>\n      <th>index</th>\n      <th>Code</th>\n      <th>AirlineID</th>\n      <th>OriginIATA</th>\n      <th>OriginID</th>\n      <th>DestIATA</th>\n      <th>DestID</th>\n      <th>Codeshare</th>\n      <th>StopNums</th>\n      <th>Equip</th>\n    </tr>\n  </thead>\n  <tbody>\n    <tr>\n      <th>0</th>\n      <td>0</td>\n      <td>2B</td>\n      <td>410</td>\n      <td>AER</td>\n      <td>2965</td>\n      <td>KZN</td>\n      <td>2990</td>\n      <td>None</td>\n      <td>0</td>\n      <td>CR2</td>\n    </tr>\n    <tr>\n      <th>1</th>\n      <td>1</td>\n      <td>2B</td>\n      <td>410</td>\n      <td>ASF</td>\n      <td>2966</td>\n      <td>KZN</td>\n      <td>2990</td>\n      <td>None</td>\n      <td>0</td>\n      <td>CR2</td>\n    </tr>\n    <tr>\n      <th>2</th>\n      <td>2</td>\n      <td>2B</td>\n      <td>410</td>\n      <td>ASF</td>\n      <td>2966</td>\n      <td>MRV</td>\n      <td>2962</td>\n      <td>None</td>\n      <td>0</td>\n      <td>CR2</td>\n    </tr>\n    <tr>\n      <th>3</th>\n      <td>3</td>\n      <td>2B</td>\n      <td>410</td>\n      <td>CEK</td>\n      <td>2968</td>\n      <td>KZN</td>\n      <td>2990</td>\n      <td>None</td>\n      <td>0</td>\n      <td>CR2</td>\n    </tr>\n    <tr>\n      <th>4</th>\n      <td>4</td>\n      <td>2B</td>\n      <td>410</td>\n      <td>CEK</td>\n      <td>2968</td>\n      <td>OVB</td>\n      <td>4078</td>\n      <td>None</td>\n      <td>0</td>\n      <td>CR2</td>\n    </tr>\n  </tbody>\n</table>\n</div>",
      "text/plain": "   index Code AirlineID OriginIATA OriginID DestIATA DestID Codeshare  \\\n0      0   2B       410        AER     2965      KZN   2990      None   \n1      1   2B       410        ASF     2966      KZN   2990      None   \n2      2   2B       410        ASF     2966      MRV   2962      None   \n3      3   2B       410        CEK     2968      KZN   2990      None   \n4      4   2B       410        CEK     2968      OVB   4078      None   \n\n   StopNums Equip  \n0         0   CR2  \n1         0   CR2  \n2         0   CR2  \n3         0   CR2  \n4         0   CR2  "
     },
     "execution_count": 9,
     "metadata": {},
     "output_type": "execute_result"
    }
   ],
   "source": [
    "pd.read_sql_query(\"select * from route limit 5\",conn)"
   ]
  },
  {
   "cell_type": "code",
   "execution_count": 10,
   "metadata": {},
   "outputs": [
    {
     "data": {
      "text/html": "<div>\n<style scoped>\n    .dataframe tbody tr th:only-of-type {\n        vertical-align: middle;\n    }\n\n    .dataframe tbody tr th {\n        vertical-align: top;\n    }\n\n    .dataframe thead th {\n        text-align: right;\n    }\n</style>\n<table border=\"1\" class=\"dataframe\">\n  <thead>\n    <tr style=\"text-align: right;\">\n      <th></th>\n      <th>index</th>\n      <th>id</th>\n      <th>AirlineName</th>\n      <th>Alias</th>\n      <th>IATA</th>\n      <th>ICAO</th>\n      <th>Callsign</th>\n      <th>Country</th>\n      <th>Active</th>\n    </tr>\n  </thead>\n  <tbody>\n    <tr>\n      <th>0</th>\n      <td>0</td>\n      <td>-1</td>\n      <td>Unknown</td>\n      <td>\\N</td>\n      <td>-</td>\n      <td>None</td>\n      <td>\\N</td>\n      <td>\\N</td>\n      <td>Y</td>\n    </tr>\n    <tr>\n      <th>1</th>\n      <td>1</td>\n      <td>1</td>\n      <td>Private flight</td>\n      <td>\\N</td>\n      <td>-</td>\n      <td>None</td>\n      <td>None</td>\n      <td>None</td>\n      <td>Y</td>\n    </tr>\n    <tr>\n      <th>2</th>\n      <td>2</td>\n      <td>2</td>\n      <td>135 Airways</td>\n      <td>\\N</td>\n      <td>None</td>\n      <td>GNL</td>\n      <td>GENERAL</td>\n      <td>United States</td>\n      <td>N</td>\n    </tr>\n    <tr>\n      <th>3</th>\n      <td>3</td>\n      <td>3</td>\n      <td>1Time Airline</td>\n      <td>\\N</td>\n      <td>1T</td>\n      <td>RNX</td>\n      <td>NEXTIME</td>\n      <td>South Africa</td>\n      <td>Y</td>\n    </tr>\n    <tr>\n      <th>4</th>\n      <td>4</td>\n      <td>4</td>\n      <td>2 Sqn No 1 Elementary Flying Training School</td>\n      <td>\\N</td>\n      <td>None</td>\n      <td>WYT</td>\n      <td>None</td>\n      <td>United Kingdom</td>\n      <td>N</td>\n    </tr>\n  </tbody>\n</table>\n</div>",
      "text/plain": "   index  id                                   AirlineName Alias  IATA  ICAO  \\\n0      0  -1                                       Unknown    \\N     -  None   \n1      1   1                                Private flight    \\N     -  None   \n2      2   2                                   135 Airways    \\N  None   GNL   \n3      3   3                                 1Time Airline    \\N    1T   RNX   \n4      4   4  2 Sqn No 1 Elementary Flying Training School    \\N  None   WYT   \n\n  Callsign         Country Active  \n0       \\N              \\N      Y  \n1     None            None      Y  \n2  GENERAL   United States      N  \n3  NEXTIME    South Africa      Y  \n4     None  United Kingdom      N  "
     },
     "execution_count": 10,
     "metadata": {},
     "output_type": "execute_result"
    }
   ],
   "source": [
    "pd.read_sql_query(\"select * from airline limit 5\",conn)"
   ]
  },
  {
   "cell_type": "code",
   "execution_count": 11,
   "metadata": {},
   "outputs": [
    {
     "data": {
      "text/html": "<div>\n<style scoped>\n    .dataframe tbody tr th:only-of-type {\n        vertical-align: middle;\n    }\n\n    .dataframe tbody tr th {\n        vertical-align: top;\n    }\n\n    .dataframe thead th {\n        text-align: right;\n    }\n</style>\n<table border=\"1\" class=\"dataframe\">\n  <thead>\n    <tr style=\"text-align: right;\">\n      <th></th>\n      <th>index</th>\n      <th>id</th>\n      <th>AirlineName</th>\n      <th>Alias</th>\n      <th>IATA</th>\n      <th>ICAO</th>\n      <th>Callsign</th>\n      <th>Country</th>\n      <th>Active</th>\n      <th>index</th>\n      <th>Code</th>\n      <th>AirlineID</th>\n      <th>OriginIATA</th>\n      <th>OriginID</th>\n      <th>DestIATA</th>\n      <th>DestID</th>\n      <th>Codeshare</th>\n      <th>StopNums</th>\n      <th>Equip</th>\n    </tr>\n  </thead>\n  <tbody>\n    <tr>\n      <th>0</th>\n      <td>4290</td>\n      <td>4296</td>\n      <td>Ryanair</td>\n      <td>\\N</td>\n      <td>FR</td>\n      <td>RYR</td>\n      <td>RYANAIR</td>\n      <td>Ireland</td>\n      <td>Y</td>\n      <td>25797</td>\n      <td>FR</td>\n      <td>4296</td>\n      <td>AAR</td>\n      <td>607</td>\n      <td>AGP</td>\n      <td>1230</td>\n      <td>None</td>\n      <td>0</td>\n      <td>738</td>\n    </tr>\n    <tr>\n      <th>1</th>\n      <td>4290</td>\n      <td>4296</td>\n      <td>Ryanair</td>\n      <td>\\N</td>\n      <td>FR</td>\n      <td>RYR</td>\n      <td>RYANAIR</td>\n      <td>Ireland</td>\n      <td>Y</td>\n      <td>25798</td>\n      <td>FR</td>\n      <td>4296</td>\n      <td>AAR</td>\n      <td>607</td>\n      <td>PMI</td>\n      <td>3998</td>\n      <td>None</td>\n      <td>0</td>\n      <td>738</td>\n    </tr>\n    <tr>\n      <th>2</th>\n      <td>4290</td>\n      <td>4296</td>\n      <td>Ryanair</td>\n      <td>\\N</td>\n      <td>FR</td>\n      <td>RYR</td>\n      <td>RYANAIR</td>\n      <td>Ireland</td>\n      <td>Y</td>\n      <td>25799</td>\n      <td>FR</td>\n      <td>4296</td>\n      <td>AAR</td>\n      <td>607</td>\n      <td>STN</td>\n      <td>548</td>\n      <td>None</td>\n      <td>0</td>\n      <td>738</td>\n    </tr>\n    <tr>\n      <th>3</th>\n      <td>4290</td>\n      <td>4296</td>\n      <td>Ryanair</td>\n      <td>\\N</td>\n      <td>FR</td>\n      <td>RYR</td>\n      <td>RYANAIR</td>\n      <td>Ireland</td>\n      <td>Y</td>\n      <td>25800</td>\n      <td>FR</td>\n      <td>4296</td>\n      <td>ACE</td>\n      <td>1055</td>\n      <td>BCN</td>\n      <td>1218</td>\n      <td>None</td>\n      <td>0</td>\n      <td>738</td>\n    </tr>\n    <tr>\n      <th>4</th>\n      <td>4290</td>\n      <td>4296</td>\n      <td>Ryanair</td>\n      <td>\\N</td>\n      <td>FR</td>\n      <td>RYR</td>\n      <td>RYANAIR</td>\n      <td>Ireland</td>\n      <td>Y</td>\n      <td>25801</td>\n      <td>FR</td>\n      <td>4296</td>\n      <td>ACE</td>\n      <td>1055</td>\n      <td>BGY</td>\n      <td>1525</td>\n      <td>None</td>\n      <td>0</td>\n      <td>738</td>\n    </tr>\n  </tbody>\n</table>\n</div>",
      "text/plain": "   index    id AirlineName Alias IATA ICAO Callsign  Country Active  index  \\\n0   4290  4296     Ryanair    \\N   FR  RYR  RYANAIR  Ireland      Y  25797   \n1   4290  4296     Ryanair    \\N   FR  RYR  RYANAIR  Ireland      Y  25798   \n2   4290  4296     Ryanair    \\N   FR  RYR  RYANAIR  Ireland      Y  25799   \n3   4290  4296     Ryanair    \\N   FR  RYR  RYANAIR  Ireland      Y  25800   \n4   4290  4296     Ryanair    \\N   FR  RYR  RYANAIR  Ireland      Y  25801   \n\n  Code AirlineID OriginIATA OriginID DestIATA DestID Codeshare  StopNums Equip  \n0   FR      4296        AAR      607      AGP   1230      None         0   738  \n1   FR      4296        AAR      607      PMI   3998      None         0   738  \n2   FR      4296        AAR      607      STN    548      None         0   738  \n3   FR      4296        ACE     1055      BCN   1218      None         0   738  \n4   FR      4296        ACE     1055      BGY   1525      None         0   738  "
     },
     "execution_count": 11,
     "metadata": {},
     "output_type": "execute_result"
    }
   ],
   "source": [
    "pd.read_sql_query(\"select * from airline join route \\\n",
    "on airline.id = route.airlineid \\\n",
    "where lower(airlinename) like 'ryanair' limit 5\", conn)"
   ]
  },
  {
   "cell_type": "code",
   "execution_count": 12,
   "metadata": {},
   "outputs": [],
   "source": [
    "conn.close()"
   ]
  }
 ],
 "metadata": {
  "kernelspec": {
   "display_name": "Python 3.8.2 64-bit",
   "name": "python382jvsc74a57bd031f2aee4e71d21fbe5cf8b01ff0e069b9275f58929596ceb00d14d90e3e16cd6"
  },
  "language_info": {
   "codemirror_mode": {
    "name": "ipython",
    "version": 3
   },
   "file_extension": ".py",
   "mimetype": "text/x-python",
   "name": "python",
   "nbconvert_exporter": "python",
   "pygments_lexer": "ipython3",
   "version": "3.8.2"
  },
  "metadata": {
   "interpreter": {
    "hash": "31f2aee4e71d21fbe5cf8b01ff0e069b9275f58929596ceb00d14d90e3e16cd6"
   }
  },
  "orig_nbformat": 3
 },
 "nbformat": 4,
 "nbformat_minor": 2
}